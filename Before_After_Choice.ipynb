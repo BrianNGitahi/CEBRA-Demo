{
 "cells": [
  {
   "cell_type": "markdown",
   "metadata": {},
   "source": [
    "This notebook will take a look at the NM activity 0.5seconds before and after the choice time."
   ]
  },
  {
   "cell_type": "code",
   "execution_count": 15,
   "metadata": {},
   "outputs": [],
   "source": [
    "\n",
    "import numpy as np\n",
    "import itertools\n",
    "import matplotlib.pyplot as plt\n",
    "import matplotlib.gridspec as gridspec\n",
    "from mpl_toolkits.mplot3d import Axes3D\n",
    "from scipy.integrate import solve_ivp\n",
    "import cebra.data\n",
    "import torch\n",
    "import cebra.integrations\n",
    "import cebra.datasets\n",
    "from cebra import CEBRA\n",
    "import torch\n",
    "import pickle\n",
    "import utils\n",
    "\n",
    "from sklearn.linear_model import LogisticRegression\n",
    "from sklearn.metrics import precision_recall_curve \n",
    "from sklearn.metrics import confusion_matrix\n",
    "from sklearn.metrics import roc_curve\n",
    "from sklearn.metrics import roc_auc_score\n",
    "from sklearn.metrics import auc\n",
    "\n",
    "from matplotlib.collections import LineCollection\n",
    "import pandas as pd"
   ]
  },
  {
   "cell_type": "markdown",
   "metadata": {},
   "source": [
    "## Load and format the Neuromodulator (NM) data and behavioural labels"
   ]
  },
  {
   "cell_type": "code",
   "execution_count": 16,
   "metadata": {},
   "outputs": [],
   "source": [
    "# load the dataframe\n",
    "df_trials_ses = pickle.load(open('/Users/brian.gitahi/Desktop/AIND/CEBRA/Git/CEBRA-Demo/data/CO data/df.pkl', \"rb\"))"
   ]
  },
  {
   "cell_type": "code",
   "execution_count": 17,
   "metadata": {},
   "outputs": [],
   "source": [
    "# load the dictionary containing the traces\n",
    "traces = pickle.load(open('/Users/brian.gitahi/Desktop/AIND/CEBRA/Git/CEBRA-Demo/data/CO data/traces.pkl', \"rb\"))"
   ]
  },
  {
   "cell_type": "code",
   "execution_count": 18,
   "metadata": {},
   "outputs": [],
   "source": [
    "# load the trace times\n",
    "trace_times = np.load('/Users/brian.gitahi/Desktop/AIND/CEBRA/Git/CEBRA-Demo/data/CO data/Trace times.npy', allow_pickle=True)"
   ]
  },
  {
   "cell_type": "code",
   "execution_count": 19,
   "metadata": {},
   "outputs": [
    {
     "data": {
      "text/plain": [
       "(218572, 4)"
      ]
     },
     "execution_count": 19,
     "metadata": {},
     "output_type": "execute_result"
    }
   ],
   "source": [
    "# Combine the traces for all NMs into one 2D array\n",
    "all_nms = np.array([traces[trace] for trace in traces.keys()])\n",
    "all_nms = np.transpose(all_nms)\n",
    "\n",
    "# change it to an array of floats (previously it was an array of object datatype)\n",
    "all_nms_new = all_nms.astype(np.float64)\n",
    "all_nms_new.shape"
   ]
  },
  {
   "cell_type": "code",
   "execution_count": 20,
   "metadata": {},
   "outputs": [],
   "source": [
    "n_trials = 1765"
   ]
  },
  {
   "cell_type": "code",
   "execution_count": 21,
   "metadata": {},
   "outputs": [],
   "source": [
    "# get the choice time \n",
    "choice_times = df_trials_ses['choice_time'][0:n_trials].to_numpy()"
   ]
  },
  {
   "cell_type": "code",
   "execution_count": 22,
   "metadata": {},
   "outputs": [
    {
     "data": {
      "text/plain": [
       "1717"
      ]
     },
     "execution_count": 22,
     "metadata": {},
     "output_type": "execute_result"
    }
   ],
   "source": [
    "np.unique(np.isnan(choice_times),return_counts=True)[1][0]"
   ]
  },
  {
   "cell_type": "code",
   "execution_count": 23,
   "metadata": {},
   "outputs": [],
   "source": [
    "# Make a function to format the NM data into a 1s window around the choice\n",
    "\n",
    "def format_data(neural_data, window=None ,df = df_trials_ses, trace_times_ = trace_times, choice_times_ = choice_times, window_size=10, n_trials=1765):\n",
    "\n",
    "    # define the number of trials where the mouse made a choice\n",
    "    n_choice_trials = np.unique(np.isnan(choice_times_),return_counts=True)[1][0]\n",
    "\n",
    "    # list to hold all the 1s windows\n",
    "    n_data_window = []\n",
    "\n",
    "    # new trial label\n",
    "    trial_labels = []\n",
    "\n",
    "    # loop over all trials\n",
    "    for i in range(0,n_trials):\n",
    "\n",
    "        # skip trials where the animal didn't make a choice (null choice time)\n",
    "        if np.isnan(choice_times_[i]):\n",
    "            continue\n",
    "\n",
    "        # find the index of the closest time to the choice time in the trace_times array \n",
    "        idx = np.abs(trace_times_ - choice_times_[i]).argmin()\n",
    "\n",
    "        # take the previous 10 and/or the next 10 values of the NM data at these indices - 1s window\n",
    "        if window =='before':\n",
    "            n_data_window.append(neural_data[idx-10:idx])\n",
    "\n",
    "        if window == 'after':\n",
    "            n_data_window.append(neural_data[idx:idx+10])\n",
    "\n",
    "        if window == None:\n",
    "            n_data_window.append(neural_data[idx-10:idx+10])\n",
    "\n",
    "        # label the timepoints as rewarded or unrewarded\n",
    "        if df['reward'].iloc[i]:\n",
    "            # new trial label\n",
    "            trial_labels.append(1)\n",
    "\n",
    "        elif df['reward'].iloc[i]==False:\n",
    "            # new trial label\n",
    "            trial_labels.append(0)\n",
    "\n",
    "\n",
    "    # stack the nm data for each trial\n",
    "    nms_HD = np.stack(n_data_window).reshape((n_choice_trials,-1))\n",
    "    # format it into a tensor\n",
    "    nms_HD = torch.from_numpy(nms_HD.astype(np.float64))\n",
    "    print(\"neural tensor shape: \", nms_HD.shape)\n",
    "\n",
    "    # convert trial labels into an array\n",
    "    trial_labels = np.array(trial_labels)\n",
    "    print(\"labels shape: \",trial_labels.shape)\n",
    "\n",
    "    return nms_HD, trial_labels\n"
   ]
  },
  {
   "cell_type": "code",
   "execution_count": 24,
   "metadata": {},
   "outputs": [
    {
     "name": "stdout",
     "output_type": "stream",
     "text": [
      "neural tensor shape:  torch.Size([1717, 40])\n",
      "labels shape:  (1717,)\n"
     ]
    }
   ],
   "source": [
    "all_nms_before, trial_labels_ = format_data(all_nms, window='before')"
   ]
  },
  {
   "cell_type": "code",
   "execution_count": 25,
   "metadata": {},
   "outputs": [
    {
     "data": {
      "text/plain": [
       "array([1, 0, 0, ..., 1, 0, 0])"
      ]
     },
     "execution_count": 25,
     "metadata": {},
     "output_type": "execute_result"
    }
   ],
   "source": [
    "trial_labels_"
   ]
  },
  {
   "cell_type": "markdown",
   "metadata": {},
   "source": [
    "## Run analysis and compute embeddings on NM data BEFORE choice"
   ]
  },
  {
   "cell_type": "code",
   "execution_count": 26,
   "metadata": {},
   "outputs": [
    {
     "name": "stderr",
     "output_type": "stream",
     "text": [
      "pos:  0.7231 neg:  4.0327 total:  4.7558 temperature:  1.0000: 100%|██████████| 2000/2000 [00:49<00:00, 40.33it/s]\n",
      "pos:  0.1856 neg:  6.0309 total:  6.2166 temperature:  1.0000: 100%|██████████| 2000/2000 [00:49<00:00, 40.15it/s]\n"
     ]
    }
   ],
   "source": [
    "t_embed_b4, b_embed_b4 = utils.build_train_compute(all_nms_before, trial_labels_)"
   ]
  },
  {
   "cell_type": "code",
   "execution_count": 27,
   "metadata": {},
   "outputs": [],
   "source": [
    "rewarded, unrewarded = utils.define_label_classes(trial_labels=trial_labels_)"
   ]
  },
  {
   "cell_type": "code",
   "execution_count": 28,
   "metadata": {},
   "outputs": [
    {
     "ename": "ValueError",
     "evalue": "Number of rows must be a positive integer, not 0",
     "output_type": "error",
     "traceback": [
      "\u001b[0;31m---------------------------------------------------------------------------\u001b[0m",
      "\u001b[0;31mValueError\u001b[0m                                Traceback (most recent call last)",
      "Cell \u001b[0;32mIn[28], line 1\u001b[0m\n\u001b[0;32m----> 1\u001b[0m \u001b[43mutils\u001b[49m\u001b[38;5;241;43m.\u001b[39;49m\u001b[43mplot4_embeddings\u001b[49m\u001b[43m(\u001b[49m\u001b[43m[\u001b[49m\u001b[43mb_embed_b4\u001b[49m\u001b[43m]\u001b[49m\u001b[43m,\u001b[49m\u001b[43m \u001b[49m\u001b[43mlabels\u001b[49m\u001b[38;5;241;43m=\u001b[39;49m\u001b[43mtrial_labels_\u001b[49m\u001b[43m,\u001b[49m\u001b[43ml_class\u001b[49m\u001b[38;5;241;43m=\u001b[39;49m\u001b[43m[\u001b[49m\u001b[43mrewarded\u001b[49m\u001b[43m,\u001b[49m\u001b[43munrewarded\u001b[49m\u001b[43m]\u001b[49m\u001b[43m,\u001b[49m\u001b[43m \u001b[49m\u001b[43mtitles\u001b[49m\u001b[38;5;241;43m=\u001b[39;49m\u001b[43m[\u001b[49m\u001b[38;5;124;43m'\u001b[39;49m\u001b[38;5;124;43mBefore Choice\u001b[39;49m\u001b[38;5;124;43m'\u001b[39;49m\u001b[43m]\u001b[49m\u001b[43m)\u001b[49m\n",
      "File \u001b[0;32m~/Desktop/AIND/CEBRA/Git/CEBRA-Demo/utils.py:258\u001b[0m, in \u001b[0;36mplot4_embeddings\u001b[0;34m(embeddings, labels, l_class, titles, t)\u001b[0m\n\u001b[1;32m    256\u001b[0m \u001b[38;5;66;03m# create axis\u001b[39;00m\n\u001b[1;32m    257\u001b[0m fig \u001b[38;5;241m=\u001b[39m plt\u001b[38;5;241m.\u001b[39mfigure(figsize\u001b[38;5;241m=\u001b[39m(\u001b[38;5;241m8\u001b[39m,\u001b[38;5;241m4\u001b[39m\u001b[38;5;241m*\u001b[39mn_plots))\n\u001b[0;32m--> 258\u001b[0m gs \u001b[38;5;241m=\u001b[39m \u001b[43mgridspec\u001b[49m\u001b[38;5;241;43m.\u001b[39;49m\u001b[43mGridSpec\u001b[49m\u001b[43m(\u001b[49m\u001b[43mn_rows\u001b[49m\u001b[43m,\u001b[49m\u001b[43m \u001b[49m\u001b[43mn_columns\u001b[49m\u001b[43m,\u001b[49m\u001b[43m \u001b[49m\u001b[43mfigure\u001b[49m\u001b[38;5;241;43m=\u001b[39;49m\u001b[43mfig\u001b[49m\u001b[43m)\u001b[49m\n\u001b[1;32m    260\u001b[0m \u001b[38;5;66;03m# colour \u001b[39;00m\n\u001b[1;32m    261\u001b[0m c \u001b[38;5;241m=\u001b[39m [\u001b[38;5;124m'\u001b[39m\u001b[38;5;124mcool\u001b[39m\u001b[38;5;124m'\u001b[39m,\u001b[38;5;124m'\u001b[39m\u001b[38;5;124mplasma\u001b[39m\u001b[38;5;124m'\u001b[39m,\u001b[38;5;124m'\u001b[39m\u001b[38;5;124mpink\u001b[39m\u001b[38;5;124m'\u001b[39m,\u001b[38;5;124m'\u001b[39m\u001b[38;5;124mwinter\u001b[39m\u001b[38;5;124m'\u001b[39m]\n",
      "File \u001b[0;32m~/Desktop/AIND/CEBRA/Git/CEBRA-Demo/cebraenv/lib/python3.9/site-packages/matplotlib/gridspec.py:378\u001b[0m, in \u001b[0;36mGridSpec.__init__\u001b[0;34m(self, nrows, ncols, figure, left, bottom, right, top, wspace, hspace, width_ratios, height_ratios)\u001b[0m\n\u001b[1;32m    375\u001b[0m \u001b[38;5;28mself\u001b[39m\u001b[38;5;241m.\u001b[39mhspace \u001b[38;5;241m=\u001b[39m hspace\n\u001b[1;32m    376\u001b[0m \u001b[38;5;28mself\u001b[39m\u001b[38;5;241m.\u001b[39mfigure \u001b[38;5;241m=\u001b[39m figure\n\u001b[0;32m--> 378\u001b[0m \u001b[38;5;28;43msuper\u001b[39;49m\u001b[43m(\u001b[49m\u001b[43m)\u001b[49m\u001b[38;5;241;43m.\u001b[39;49m\u001b[38;5;21;43m__init__\u001b[39;49m\u001b[43m(\u001b[49m\u001b[43mnrows\u001b[49m\u001b[43m,\u001b[49m\u001b[43m \u001b[49m\u001b[43mncols\u001b[49m\u001b[43m,\u001b[49m\n\u001b[1;32m    379\u001b[0m \u001b[43m                 \u001b[49m\u001b[43mwidth_ratios\u001b[49m\u001b[38;5;241;43m=\u001b[39;49m\u001b[43mwidth_ratios\u001b[49m\u001b[43m,\u001b[49m\n\u001b[1;32m    380\u001b[0m \u001b[43m                 \u001b[49m\u001b[43mheight_ratios\u001b[49m\u001b[38;5;241;43m=\u001b[39;49m\u001b[43mheight_ratios\u001b[49m\u001b[43m)\u001b[49m\n",
      "File \u001b[0;32m~/Desktop/AIND/CEBRA/Git/CEBRA-Demo/cebraenv/lib/python3.9/site-packages/matplotlib/gridspec.py:48\u001b[0m, in \u001b[0;36mGridSpecBase.__init__\u001b[0;34m(self, nrows, ncols, height_ratios, width_ratios)\u001b[0m\n\u001b[1;32m     33\u001b[0m \u001b[38;5;250m\u001b[39m\u001b[38;5;124;03m\"\"\"\u001b[39;00m\n\u001b[1;32m     34\u001b[0m \u001b[38;5;124;03mParameters\u001b[39;00m\n\u001b[1;32m     35\u001b[0m \u001b[38;5;124;03m----------\u001b[39;00m\n\u001b[0;32m   (...)\u001b[0m\n\u001b[1;32m     45\u001b[0m \u001b[38;5;124;03m    If not given, all rows will have the same height.\u001b[39;00m\n\u001b[1;32m     46\u001b[0m \u001b[38;5;124;03m\"\"\"\u001b[39;00m\n\u001b[1;32m     47\u001b[0m \u001b[38;5;28;01mif\u001b[39;00m \u001b[38;5;129;01mnot\u001b[39;00m \u001b[38;5;28misinstance\u001b[39m(nrows, Integral) \u001b[38;5;129;01mor\u001b[39;00m nrows \u001b[38;5;241m<\u001b[39m\u001b[38;5;241m=\u001b[39m \u001b[38;5;241m0\u001b[39m:\n\u001b[0;32m---> 48\u001b[0m     \u001b[38;5;28;01mraise\u001b[39;00m \u001b[38;5;167;01mValueError\u001b[39;00m(\n\u001b[1;32m     49\u001b[0m         \u001b[38;5;124mf\u001b[39m\u001b[38;5;124m\"\u001b[39m\u001b[38;5;124mNumber of rows must be a positive integer, not \u001b[39m\u001b[38;5;132;01m{\u001b[39;00mnrows\u001b[38;5;132;01m!r}\u001b[39;00m\u001b[38;5;124m\"\u001b[39m)\n\u001b[1;32m     50\u001b[0m \u001b[38;5;28;01mif\u001b[39;00m \u001b[38;5;129;01mnot\u001b[39;00m \u001b[38;5;28misinstance\u001b[39m(ncols, Integral) \u001b[38;5;129;01mor\u001b[39;00m ncols \u001b[38;5;241m<\u001b[39m\u001b[38;5;241m=\u001b[39m \u001b[38;5;241m0\u001b[39m:\n\u001b[1;32m     51\u001b[0m     \u001b[38;5;28;01mraise\u001b[39;00m \u001b[38;5;167;01mValueError\u001b[39;00m(\n\u001b[1;32m     52\u001b[0m         \u001b[38;5;124mf\u001b[39m\u001b[38;5;124m\"\u001b[39m\u001b[38;5;124mNumber of columns must be a positive integer, not \u001b[39m\u001b[38;5;132;01m{\u001b[39;00mncols\u001b[38;5;132;01m!r}\u001b[39;00m\u001b[38;5;124m\"\u001b[39m)\n",
      "\u001b[0;31mValueError\u001b[0m: Number of rows must be a positive integer, not 0"
     ]
    },
    {
     "data": {
      "text/plain": [
       "<Figure size 800x400 with 0 Axes>"
      ]
     },
     "metadata": {},
     "output_type": "display_data"
    }
   ],
   "source": [
    "utils.plot4_embeddings([b_embed_b4], labels=trial_labels_,l_class=[rewarded,unrewarded], titles=['Before Choice'])"
   ]
  },
  {
   "cell_type": "markdown",
   "metadata": {},
   "source": [
    "## Run analysis and compute embeddings on NM data AFTER choice"
   ]
  },
  {
   "cell_type": "code",
   "execution_count": 29,
   "metadata": {},
   "outputs": [
    {
     "name": "stdout",
     "output_type": "stream",
     "text": [
      "neural tensor shape:  torch.Size([1717, 40])\n",
      "labels shape:  (1717,)\n"
     ]
    }
   ],
   "source": [
    "all_nms_af, trial_labels_af = format_data(all_nms, window='after')"
   ]
  },
  {
   "cell_type": "code",
   "execution_count": 30,
   "metadata": {},
   "outputs": [
    {
     "name": "stderr",
     "output_type": "stream",
     "text": [
      "pos:  0.8222 neg:  3.5128 total:  4.3350 temperature:  1.0000: 100%|██████████| 2000/2000 [00:48<00:00, 41.14it/s]\n",
      "pos:  0.3407 neg:  5.5087 total:  5.8494 temperature:  1.0000: 100%|██████████| 2000/2000 [00:50<00:00, 39.56it/s]\n"
     ]
    }
   ],
   "source": [
    "t_embed_af, b_embed_af = utils.build_train_compute(all_nms_af, trial_labels_af)"
   ]
  },
  {
   "cell_type": "code",
   "execution_count": 31,
   "metadata": {},
   "outputs": [
    {
     "ename": "ValueError",
     "evalue": "Number of rows must be a positive integer, not 0",
     "output_type": "error",
     "traceback": [
      "\u001b[0;31m---------------------------------------------------------------------------\u001b[0m",
      "\u001b[0;31mValueError\u001b[0m                                Traceback (most recent call last)",
      "Cell \u001b[0;32mIn[31], line 1\u001b[0m\n\u001b[0;32m----> 1\u001b[0m \u001b[43mutils\u001b[49m\u001b[38;5;241;43m.\u001b[39;49m\u001b[43mplot4_embeddings\u001b[49m\u001b[43m(\u001b[49m\u001b[43m[\u001b[49m\u001b[43mb_embed_af\u001b[49m\u001b[43m]\u001b[49m\u001b[43m,\u001b[49m\u001b[43m \u001b[49m\u001b[43mlabels\u001b[49m\u001b[38;5;241;43m=\u001b[39;49m\u001b[43mtrial_labels_af\u001b[49m\u001b[43m,\u001b[49m\u001b[43m \u001b[49m\u001b[43ml_class\u001b[49m\u001b[38;5;241;43m=\u001b[39;49m\u001b[43m[\u001b[49m\u001b[43mrewarded\u001b[49m\u001b[43m,\u001b[49m\u001b[43munrewarded\u001b[49m\u001b[43m]\u001b[49m\u001b[43m,\u001b[49m\u001b[43m \u001b[49m\u001b[43mtitles\u001b[49m\u001b[38;5;241;43m=\u001b[39;49m\u001b[43m[\u001b[49m\u001b[38;5;124;43m'\u001b[39;49m\u001b[38;5;124;43mAfter Choice\u001b[39;49m\u001b[38;5;124;43m'\u001b[39;49m\u001b[43m]\u001b[49m\u001b[43m)\u001b[49m\n",
      "File \u001b[0;32m~/Desktop/AIND/CEBRA/Git/CEBRA-Demo/utils.py:258\u001b[0m, in \u001b[0;36mplot4_embeddings\u001b[0;34m(embeddings, labels, l_class, titles, t)\u001b[0m\n\u001b[1;32m    256\u001b[0m \u001b[38;5;66;03m# create axis\u001b[39;00m\n\u001b[1;32m    257\u001b[0m fig \u001b[38;5;241m=\u001b[39m plt\u001b[38;5;241m.\u001b[39mfigure(figsize\u001b[38;5;241m=\u001b[39m(\u001b[38;5;241m8\u001b[39m,\u001b[38;5;241m4\u001b[39m\u001b[38;5;241m*\u001b[39mn_plots))\n\u001b[0;32m--> 258\u001b[0m gs \u001b[38;5;241m=\u001b[39m \u001b[43mgridspec\u001b[49m\u001b[38;5;241;43m.\u001b[39;49m\u001b[43mGridSpec\u001b[49m\u001b[43m(\u001b[49m\u001b[43mn_rows\u001b[49m\u001b[43m,\u001b[49m\u001b[43m \u001b[49m\u001b[43mn_columns\u001b[49m\u001b[43m,\u001b[49m\u001b[43m \u001b[49m\u001b[43mfigure\u001b[49m\u001b[38;5;241;43m=\u001b[39;49m\u001b[43mfig\u001b[49m\u001b[43m)\u001b[49m\n\u001b[1;32m    260\u001b[0m \u001b[38;5;66;03m# colour \u001b[39;00m\n\u001b[1;32m    261\u001b[0m c \u001b[38;5;241m=\u001b[39m [\u001b[38;5;124m'\u001b[39m\u001b[38;5;124mcool\u001b[39m\u001b[38;5;124m'\u001b[39m,\u001b[38;5;124m'\u001b[39m\u001b[38;5;124mplasma\u001b[39m\u001b[38;5;124m'\u001b[39m,\u001b[38;5;124m'\u001b[39m\u001b[38;5;124mpink\u001b[39m\u001b[38;5;124m'\u001b[39m,\u001b[38;5;124m'\u001b[39m\u001b[38;5;124mwinter\u001b[39m\u001b[38;5;124m'\u001b[39m]\n",
      "File \u001b[0;32m~/Desktop/AIND/CEBRA/Git/CEBRA-Demo/cebraenv/lib/python3.9/site-packages/matplotlib/gridspec.py:378\u001b[0m, in \u001b[0;36mGridSpec.__init__\u001b[0;34m(self, nrows, ncols, figure, left, bottom, right, top, wspace, hspace, width_ratios, height_ratios)\u001b[0m\n\u001b[1;32m    375\u001b[0m \u001b[38;5;28mself\u001b[39m\u001b[38;5;241m.\u001b[39mhspace \u001b[38;5;241m=\u001b[39m hspace\n\u001b[1;32m    376\u001b[0m \u001b[38;5;28mself\u001b[39m\u001b[38;5;241m.\u001b[39mfigure \u001b[38;5;241m=\u001b[39m figure\n\u001b[0;32m--> 378\u001b[0m \u001b[38;5;28;43msuper\u001b[39;49m\u001b[43m(\u001b[49m\u001b[43m)\u001b[49m\u001b[38;5;241;43m.\u001b[39;49m\u001b[38;5;21;43m__init__\u001b[39;49m\u001b[43m(\u001b[49m\u001b[43mnrows\u001b[49m\u001b[43m,\u001b[49m\u001b[43m \u001b[49m\u001b[43mncols\u001b[49m\u001b[43m,\u001b[49m\n\u001b[1;32m    379\u001b[0m \u001b[43m                 \u001b[49m\u001b[43mwidth_ratios\u001b[49m\u001b[38;5;241;43m=\u001b[39;49m\u001b[43mwidth_ratios\u001b[49m\u001b[43m,\u001b[49m\n\u001b[1;32m    380\u001b[0m \u001b[43m                 \u001b[49m\u001b[43mheight_ratios\u001b[49m\u001b[38;5;241;43m=\u001b[39;49m\u001b[43mheight_ratios\u001b[49m\u001b[43m)\u001b[49m\n",
      "File \u001b[0;32m~/Desktop/AIND/CEBRA/Git/CEBRA-Demo/cebraenv/lib/python3.9/site-packages/matplotlib/gridspec.py:48\u001b[0m, in \u001b[0;36mGridSpecBase.__init__\u001b[0;34m(self, nrows, ncols, height_ratios, width_ratios)\u001b[0m\n\u001b[1;32m     33\u001b[0m \u001b[38;5;250m\u001b[39m\u001b[38;5;124;03m\"\"\"\u001b[39;00m\n\u001b[1;32m     34\u001b[0m \u001b[38;5;124;03mParameters\u001b[39;00m\n\u001b[1;32m     35\u001b[0m \u001b[38;5;124;03m----------\u001b[39;00m\n\u001b[0;32m   (...)\u001b[0m\n\u001b[1;32m     45\u001b[0m \u001b[38;5;124;03m    If not given, all rows will have the same height.\u001b[39;00m\n\u001b[1;32m     46\u001b[0m \u001b[38;5;124;03m\"\"\"\u001b[39;00m\n\u001b[1;32m     47\u001b[0m \u001b[38;5;28;01mif\u001b[39;00m \u001b[38;5;129;01mnot\u001b[39;00m \u001b[38;5;28misinstance\u001b[39m(nrows, Integral) \u001b[38;5;129;01mor\u001b[39;00m nrows \u001b[38;5;241m<\u001b[39m\u001b[38;5;241m=\u001b[39m \u001b[38;5;241m0\u001b[39m:\n\u001b[0;32m---> 48\u001b[0m     \u001b[38;5;28;01mraise\u001b[39;00m \u001b[38;5;167;01mValueError\u001b[39;00m(\n\u001b[1;32m     49\u001b[0m         \u001b[38;5;124mf\u001b[39m\u001b[38;5;124m\"\u001b[39m\u001b[38;5;124mNumber of rows must be a positive integer, not \u001b[39m\u001b[38;5;132;01m{\u001b[39;00mnrows\u001b[38;5;132;01m!r}\u001b[39;00m\u001b[38;5;124m\"\u001b[39m)\n\u001b[1;32m     50\u001b[0m \u001b[38;5;28;01mif\u001b[39;00m \u001b[38;5;129;01mnot\u001b[39;00m \u001b[38;5;28misinstance\u001b[39m(ncols, Integral) \u001b[38;5;129;01mor\u001b[39;00m ncols \u001b[38;5;241m<\u001b[39m\u001b[38;5;241m=\u001b[39m \u001b[38;5;241m0\u001b[39m:\n\u001b[1;32m     51\u001b[0m     \u001b[38;5;28;01mraise\u001b[39;00m \u001b[38;5;167;01mValueError\u001b[39;00m(\n\u001b[1;32m     52\u001b[0m         \u001b[38;5;124mf\u001b[39m\u001b[38;5;124m\"\u001b[39m\u001b[38;5;124mNumber of columns must be a positive integer, not \u001b[39m\u001b[38;5;132;01m{\u001b[39;00mncols\u001b[38;5;132;01m!r}\u001b[39;00m\u001b[38;5;124m\"\u001b[39m)\n",
      "\u001b[0;31mValueError\u001b[0m: Number of rows must be a positive integer, not 0"
     ]
    },
    {
     "data": {
      "text/plain": [
       "<Figure size 800x400 with 0 Axes>"
      ]
     },
     "metadata": {},
     "output_type": "display_data"
    }
   ],
   "source": [
    "utils.plot4_embeddings([b_embed_af], labels=trial_labels_af, l_class=[rewarded,unrewarded], titles=['After Choice'])"
   ]
  },
  {
   "cell_type": "code",
   "execution_count": 32,
   "metadata": {},
   "outputs": [],
   "source": [
    "two_embeddings = [b_embed_b4, b_embed_af]"
   ]
  },
  {
   "cell_type": "code",
   "execution_count": 52,
   "metadata": {},
   "outputs": [],
   "source": [
    "# first make function to make the plots given a list of embeddings\n",
    "def plot4_embeddings(embeddings, labels = trial_labels_, l_class=[rewarded, unrewarded], titles=['DA (AUC:0.92)', 'NE (AUC:0.97)', '5HT (AUC:0.76)', 'ACh (AUC:0.85)']):\n",
    "\n",
    "    # number of plots\n",
    "    n_plots = len(embeddings)\n",
    "\n",
    "    n_columns = 2\n",
    "    n_rows = n_plots//n_columns\n",
    "\n",
    "    # create axis\n",
    "    fig = plt.figure(figsize=(10,4))\n",
    "    gs = gridspec.GridSpec(n_rows, n_columns, figure=fig)\n",
    "\n",
    "    # colour \n",
    "    c = ['cool','plasma','pink','winter']\n",
    "\n",
    "    for i, embed in enumerate(embeddings):\n",
    "\n",
    "        # create the axes\n",
    "        ax = fig.add_subplot(gs[i // n_columns, i%n_columns], projection='3d')\n",
    "\n",
    "        ax.set_xlabel(\"latent 1\", labelpad=0.001, fontsize=13)\n",
    "        ax.set_ylabel(\"latent 2\", labelpad=0.001, fontsize=13)\n",
    "        ax.set_zlabel(\"latent 3\", labelpad=0.001, fontsize=13)\n",
    "\n",
    "        # Hide X and Y axes label marks\n",
    "        ax.xaxis.set_tick_params(labelbottom=False)\n",
    "        ax.yaxis.set_tick_params(labelleft=False)\n",
    "        ax.zaxis.set_tick_params(labelright=False)\n",
    "\n",
    "        # Hide X and Y axes tick marks\n",
    "        ax.set_xticks([])\n",
    "        ax.set_yticks([])\n",
    "        ax.set_zticks([])\n",
    "\n",
    "        # plot the embedding\n",
    "        cebra.plot_embedding(embedding=embed[l_class[0],:], embedding_labels=labels[l_class[0]], ax=ax, markersize=2,title=titles[i], cmap=c[0])\n",
    "        cebra.plot_embedding(embedding=embed[l_class[1],:], embedding_labels=labels[l_class[1]], ax=ax, markersize=2,title=titles[i], cmap=c[1])\n",
    "\n",
    "    \n",
    "    # Adjust the subplot layout manually\n",
    "    #plt.subplots_adjust(left=0.1, right=0.55, top=0.95, bottom=0.05, wspace=0.0001)\n",
    "    plt.suptitle(\"Embeddings of All Neuromodulators\", fontsize=15)"
   ]
  },
  {
   "cell_type": "code",
   "execution_count": 53,
   "metadata": {},
   "outputs": [
    {
     "data": {
      "image/png": "[encoded data removed]",
      "text/plain": [
       "<Figure size 1000x400 with 2 Axes>"
      ]
     },
     "metadata": {},
     "output_type": "display_data"
    }
   ],
   "source": [
    "# plot both of them on one plot\n",
    "plot4_embeddings(two_embeddings, labels=trial_labels_, l_class=[rewarded,unrewarded], titles=['Before Choice ', 'After Choice '])"
   ]
  },
  {
   "cell_type": "markdown",
   "metadata": {},
   "source": [
    "## Quantify how well these embeddings show presence of reward"
   ]
  },
  {
   "cell_type": "code",
   "execution_count": 36,
   "metadata": {},
   "outputs": [],
   "source": [
    "# define function to get the auc scores\n",
    "def get_auc(set_of_embeddings,trial_labels, n_iterations=5):   \n",
    "\n",
    "     # list to store mean auc scores at each of these embedding dimensions\n",
    "    mean_scores = []\n",
    "    errors = []\n",
    "\n",
    "    for j, embedding in enumerate(set_of_embeddings):\n",
    "\n",
    "        # quantify with AUC score\n",
    "        scores = []\n",
    "\n",
    "        # for each NM make a couple of runs of the log regression model to get error bars\n",
    "        for i in range(n_iterations):\n",
    "\n",
    "            # make logistic function, fit it and use it to predict the initial labels from the embedding\n",
    "            logreg = LogisticRegression(random_state=42)\n",
    "            logreg.fit(embedding, trial_labels)\n",
    "            prediction = logreg.predict(embedding)\n",
    "\n",
    "            # quantify how well the embedding mirrors the labels using the auc score\n",
    "\n",
    "            # make a precision recall curve and get the threshold\n",
    "            precision, recall, threshold = precision_recall_curve(trial_labels, prediction)\n",
    "            threshold = np.concatenate([np.array([0]), threshold])\n",
    "\n",
    "            # calculate the fpr and tpr for all thresholds of the classification\n",
    "            fpr, tpr, threshold = roc_curve(trial_labels, prediction)\n",
    "\n",
    "            # get the auc score and append it to the list\n",
    "            roc_auc = auc(fpr, tpr)\n",
    "            scores.append(roc_auc)\n",
    "\n",
    "        # store the mean and the standard deviation \n",
    "        mean_scores.append(np.mean(scores))\n",
    "        errors.append(np.std(scores))\n",
    "\n",
    "    return mean_scores, errors"
   ]
  },
  {
   "cell_type": "code",
   "execution_count": 37,
   "metadata": {},
   "outputs": [
    {
     "data": {
      "text/plain": [
       "array([1, 0, 0, ..., 1, 0, 0])"
      ]
     },
     "execution_count": 37,
     "metadata": {},
     "output_type": "execute_result"
    }
   ],
   "source": [
    "trial_labels_"
   ]
  },
  {
   "cell_type": "code",
   "execution_count": 38,
   "metadata": {},
   "outputs": [],
   "source": [
    "x_labels = ['Before choice', 'After Choice']"
   ]
  },
  {
   "cell_type": "code",
   "execution_count": 39,
   "metadata": {},
   "outputs": [],
   "source": [
    "list_embeddings = [b_embed_b4, b_embed_af]"
   ]
  },
  {
   "cell_type": "code",
   "execution_count": 40,
   "metadata": {},
   "outputs": [
    {
     "data": {
      "text/plain": [
       "array([0.73, 0.97])"
      ]
     },
     "execution_count": 40,
     "metadata": {},
     "output_type": "execute_result"
    }
   ],
   "source": [
    "mean_scores, errors = get_auc(list_embeddings, trial_labels=trial_labels_)\n",
    "np.round(mean_scores,2)"
   ]
  },
  {
   "cell_type": "code",
   "execution_count": 42,
   "metadata": {},
   "outputs": [
    {
     "data": {
      "text/plain": [
       "['Before choice', 'After Choice']"
      ]
     },
     "execution_count": 42,
     "metadata": {},
     "output_type": "execute_result"
    }
   ],
   "source": [
    "x_labels"
   ]
  },
  {
   "cell_type": "code",
   "execution_count": 41,
   "metadata": {},
   "outputs": [
    {
     "data": {
      "text/plain": [
       "Text(0.5, 1.0, 'AUC score (logistic regression) before and after choice')"
      ]
     },
     "execution_count": 41,
     "metadata": {},
     "output_type": "execute_result"
    },
    {
     "data": {
      "image/png": "[encoded data removed]",
      "text/plain": [
       "<Figure size 640x480 with 1 Axes>"
      ]
     },
     "metadata": {},
     "output_type": "display_data"
    }
   ],
   "source": [
    "# print the auc score vs the embedding dimension\n",
    "plt.errorbar(x=np.arange(0,2),y=mean_scores, yerr=errors, fmt='ro')\n",
    "plt.xlabel(\"\")\n",
    "plt.xticks(range(len(x_labels)), x_labels, size='small')\n",
    "plt.ylabel(\"AUC Score\")\n",
    "plt.title(\"AUC score (logistic regression) before and after choice\")"
   ]
  },
  {
   "cell_type": "code",
   "execution_count": 48,
   "metadata": {},
   "outputs": [],
   "source": [
    "labels = ['Before', 'After']"
   ]
  },
  {
   "cell_type": "code",
   "execution_count": 50,
   "metadata": {},
   "outputs": [
    {
     "data": {
      "text/plain": [
       "<matplotlib.legend.Legend at 0x7fcc99ebb4f0>"
      ]
     },
     "execution_count": 50,
     "metadata": {},
     "output_type": "execute_result"
    },
    {
     "data": {
      "image/png": "[encoded data removed]",
      "text/plain": [
       "<Figure size 640x480 with 1 Axes>"
      ]
     },
     "metadata": {},
     "output_type": "display_data"
    }
   ],
   "source": [
    "fig, ax = plt.subplots(layout='constrained')\n",
    "\n",
    "x = np.arange(0,2)\n",
    "width = 0.25\n",
    "\n",
    "\n",
    "rects = ax.bar(x+width, mean_scores, width, label='Before/after')\n",
    "ax.bar_label(rects, padding=3)\n",
    "\n",
    "ax.set_ylabel('auc scores')\n",
    "ax.set_title('Before/After choice comparison')\n",
    "ax.set_xticks(x + width, labels)\n",
    "ax.legend(loc='upper left')"
   ]
  },
  {
   "cell_type": "code",
   "execution_count": 47,
   "metadata": {},
   "outputs": [
    {
     "data": {
      "text/plain": [
       "matplotlib.container.BarContainer"
      ]
     },
     "execution_count": 47,
     "metadata": {},
     "output_type": "execute_result"
    }
   ],
   "source": []
  },
  {
   "cell_type": "code",
   "execution_count": null,
   "metadata": {},
   "outputs": [],
   "source": []
  },
  {
   "cell_type": "code",
   "execution_count": 26,
   "metadata": {},
   "outputs": [
    {
     "ename": "KeyboardInterrupt",
     "evalue": "",
     "output_type": "error",
     "traceback": [
      "\u001b[0;31m---------------------------------------------------------------------------\u001b[0m",
      "\u001b[0;31mKeyboardInterrupt\u001b[0m                         Traceback (most recent call last)",
      "Cell \u001b[0;32mIn[26], line 1\u001b[0m\n\u001b[0;32m----> 1\u001b[0m behaviour_embeddings, time_embedings, t_labels, [rewarded,unrewarded] \u001b[38;5;241m=\u001b[39m \u001b[43mutils\u001b[49m\u001b[38;5;241;43m.\u001b[39;49m\u001b[43mnm_analysis_2\u001b[49m\u001b[43m(\u001b[49m\u001b[43mall_nms_before\u001b[49m\u001b[43m,\u001b[49m\u001b[43mdf\u001b[49m\u001b[38;5;241;43m=\u001b[39;49m\u001b[43mdf_trials_ses\u001b[49m\u001b[43m,\u001b[49m\u001b[43mtrace_times\u001b[49m\u001b[38;5;241;43m=\u001b[39;49m\u001b[43mtrace_times\u001b[49m\u001b[43m,\u001b[49m\u001b[43mchoice_times\u001b[49m\u001b[38;5;241;43m=\u001b[39;49m\u001b[43mchoice_times\u001b[49m\u001b[43m,\u001b[49m\u001b[43mwindow\u001b[49m\u001b[38;5;241;43m=\u001b[39;49m\u001b[38;5;124;43m'\u001b[39;49m\u001b[38;5;124;43mbefore\u001b[39;49m\u001b[38;5;124;43m'\u001b[39;49m\u001b[43m,\u001b[49m\u001b[43mtitle\u001b[49m\u001b[38;5;241;43m=\u001b[39;49m\u001b[38;5;124;43m\"\u001b[39;49m\u001b[38;5;124;43mBefore Choice\u001b[39;49m\u001b[38;5;124;43m\"\u001b[39;49m\u001b[43m)\u001b[49m\n",
      "File \u001b[0;32m~/Desktop/AIND/CEBRA/Git/CEBRA-Demo/utils.py:284\u001b[0m, in \u001b[0;36mnm_analysis_2\u001b[0;34m(data, df, trace_times, choice_times, title, window)\u001b[0m\n\u001b[1;32m    281\u001b[0m \u001b[38;5;66;03m# run the nm analysis on the individual nms\u001b[39;00m\n\u001b[1;32m    282\u001b[0m \u001b[38;5;28;01mfor\u001b[39;00m i, dataset \u001b[38;5;129;01min\u001b[39;00m \u001b[38;5;28menumerate\u001b[39m(data):\n\u001b[0;32m--> 284\u001b[0m     t_embed, b_embed, t_labels, [rewarded,unrewarded] \u001b[38;5;241m=\u001b[39m \u001b[43mnm_analysis\u001b[49m\u001b[43m(\u001b[49m\u001b[43mdataset\u001b[49m\u001b[43m,\u001b[49m\u001b[43m \u001b[49m\u001b[43mdf\u001b[49m\u001b[43m,\u001b[49m\u001b[43m \u001b[49m\u001b[43mtrace_times\u001b[49m\u001b[43m,\u001b[49m\u001b[43m \u001b[49m\u001b[43mchoice_times\u001b[49m\u001b[43m,\u001b[49m\u001b[43m \u001b[49m\u001b[43mwindow_\u001b[49m\u001b[38;5;241;43m=\u001b[39;49m\u001b[43mwindow\u001b[49m\u001b[43m)\u001b[49m[\u001b[38;5;241m0\u001b[39m]\n\u001b[1;32m    286\u001b[0m     behaviour_embeddings\u001b[38;5;241m.\u001b[39mappend(b_embed)\n\u001b[1;32m    287\u001b[0m     time_embedings\u001b[38;5;241m.\u001b[39mappend(t_embed)\n",
      "File \u001b[0;32m~/Desktop/AIND/CEBRA/Git/CEBRA-Demo/utils.py:232\u001b[0m, in \u001b[0;36mnm_analysis\u001b[0;34m(data, df_, t_times_, c_times_, window_, dimension, missing_nm)\u001b[0m\n\u001b[1;32m    229\u001b[0m \u001b[38;5;28;01mdef\u001b[39;00m \u001b[38;5;21mnm_analysis\u001b[39m(data, df_, t_times_, c_times_,window_\u001b[38;5;241m=\u001b[39m\u001b[38;5;28;01mNone\u001b[39;00m,dimension\u001b[38;5;241m=\u001b[39m\u001b[38;5;241m3\u001b[39m,missing_nm\u001b[38;5;241m=\u001b[39m\u001b[38;5;124m\"\u001b[39m\u001b[38;5;124m\"\u001b[39m):\n\u001b[1;32m    230\u001b[0m \n\u001b[1;32m    231\u001b[0m     \u001b[38;5;66;03m# format the data into 1s window around the choice and create the labels\u001b[39;00m\n\u001b[0;32m--> 232\u001b[0m     nms_HD, t_labels \u001b[38;5;241m=\u001b[39m \u001b[43mformat_data\u001b[49m\u001b[43m(\u001b[49m\u001b[43mdata\u001b[49m\u001b[43m,\u001b[49m\u001b[43m \u001b[49m\u001b[43mdf_\u001b[49m\u001b[43m,\u001b[49m\u001b[43m \u001b[49m\u001b[43mt_times_\u001b[49m\u001b[43m,\u001b[49m\u001b[43mc_times_\u001b[49m\u001b[43m,\u001b[49m\u001b[43m \u001b[49m\u001b[43mwindow\u001b[49m\u001b[38;5;241;43m=\u001b[39;49m\u001b[43mwindow_\u001b[49m\u001b[43m)\u001b[49m\n\u001b[1;32m    234\u001b[0m     \u001b[38;5;66;03m# Build and train the model then compute embeddings\u001b[39;00m\n\u001b[1;32m    235\u001b[0m     t_embed, b_embed \u001b[38;5;241m=\u001b[39m build_train_compute(nms_HD, t_labels,d\u001b[38;5;241m=\u001b[39mdimension)\n",
      "File \u001b[0;32m~/Desktop/AIND/CEBRA/Git/CEBRA-Demo/utils.py:174\u001b[0m, in \u001b[0;36mformat_data\u001b[0;34m(neural_data, df, trace_times_, choice_times_, window, window_size, n_trials)\u001b[0m\n\u001b[1;32m    171\u001b[0m     \u001b[38;5;28;01mcontinue\u001b[39;00m\n\u001b[1;32m    173\u001b[0m \u001b[38;5;66;03m# find the index of the closest time to the choice time in the trace_times array \u001b[39;00m\n\u001b[0;32m--> 174\u001b[0m idx \u001b[38;5;241m=\u001b[39m \u001b[43mnp\u001b[49m\u001b[38;5;241;43m.\u001b[39;49m\u001b[43mabs\u001b[49m\u001b[43m(\u001b[49m\u001b[43mtrace_times_\u001b[49m\u001b[43m \u001b[49m\u001b[38;5;241;43m-\u001b[39;49m\u001b[43m \u001b[49m\u001b[43mchoice_times_\u001b[49m\u001b[43m[\u001b[49m\u001b[43mi\u001b[49m\u001b[43m]\u001b[49m\u001b[43m)\u001b[49m\u001b[38;5;241m.\u001b[39margmin()\n\u001b[1;32m    176\u001b[0m \u001b[38;5;66;03m# take the previous 10 and/or the next 10 values of the NM data at these indices - 1s window\u001b[39;00m\n\u001b[1;32m    177\u001b[0m \u001b[38;5;28;01mif\u001b[39;00m window \u001b[38;5;241m==\u001b[39m\u001b[38;5;124m'\u001b[39m\u001b[38;5;124mbefore\u001b[39m\u001b[38;5;124m'\u001b[39m:\n",
      "\u001b[0;31mKeyboardInterrupt\u001b[0m: "
     ]
    }
   ],
   "source": [
    "behaviour_embeddings, time_embedings, t_labels, [rewarded,unrewarded] = utils.nm_analysis_2(all_nms_before,df=df_trials_ses,trace_times=trace_times,choice_times=choice_times,window='before',title=\"Before Choice\")"
   ]
  }
 ],
 "metadata": {
  "kernelspec": {
   "display_name": "cebraenv",
   "language": "python",
   "name": "python3"
  },
  "language_info": {
   "codemirror_mode": {
    "name": "ipython",
    "version": 3
   },
   "file_extension": ".py",
   "mimetype": "text/x-python",
   "name": "python",
   "nbconvert_exporter": "python",
   "pygments_lexer": "ipython3",
   "version": "3.9.7"
  }
 },
 "nbformat": 4,
 "nbformat_minor": 2
}
