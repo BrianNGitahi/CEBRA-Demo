{
 "cells": [
  {
   "cell_type": "markdown",
   "metadata": {},
   "source": [
    "This notebook shows the input neural data used in the CEBRA analysis: the dF_F signal for rewarded and unrewarded trials for each of the neuromodulators (DA, NE, 5HT, ACh) recorded in the Nucleus Acumbens during a foraging task. This fiber photometry data is taken from a 1 second window around the choice from 4 neuromodulators simultaneously."
   ]
  },
  {
   "cell_type": "code",
   "execution_count": 1,
   "metadata": {},
   "outputs": [
    {
     "name": "stderr",
     "output_type": "stream",
     "text": [
      "/opt/conda/lib/python3.9/site-packages/cebra/datasets/monkey_reaching.py:35: UserWarning: Could not import the nlb_tools package required for data loading of cebra.datasets.monkey_reaching. Dataset will not be available. If required, you can install the dataset by running pip install git+https://github.com/neurallatents/nlb_tools.\n",
      "  warnings.warn(\n"
     ]
    }
   ],
   "source": [
    "\n",
    "import numpy as np\n",
    "import itertools\n",
    "import matplotlib.pyplot as plt\n",
    "import matplotlib.gridspec as gridspec\n",
    "from mpl_toolkits.mplot3d import Axes3D\n",
    "from scipy.integrate import solve_ivp\n",
    "import cebra.data\n",
    "import torch\n",
    "import cebra.integrations\n",
    "import cebra.datasets\n",
    "from cebra import CEBRA\n",
    "import torch\n",
    "import pickle\n",
    "import cebra_pack.cebra_utils as cp\n",
    "\n",
    "\n",
    "from matplotlib.collections import LineCollection\n",
    "import pandas as pd"
   ]
  },
  {
   "cell_type": "markdown",
   "metadata": {},
   "source": [
    "## Load and format the Neuromodulator (NM) data and behavioural labels"
   ]
  },
  {
   "cell_type": "code",
   "execution_count": 3,
   "metadata": {},
   "outputs": [],
   "source": [
    "# load the dataframe\n",
    "df_trials_ses = pickle.load(open('../data/CO data/df.pkl', \"rb\"))"
   ]
  },
  {
   "cell_type": "code",
   "execution_count": 4,
   "metadata": {},
   "outputs": [
    {
     "data": {
      "text/plain": [
       "7060"
      ]
     },
     "execution_count": 4,
     "metadata": {},
     "output_type": "execute_result"
    }
   ],
   "source": [
    "1765*4"
   ]
  },
  {
   "cell_type": "code",
   "execution_count": 6,
   "metadata": {},
   "outputs": [],
   "source": [
    "# load the dictionary containing the traces\n",
    "traces = pickle.load(open('../data/CO data/traces.pkl', \"rb\"))"
   ]
  },
  {
   "cell_type": "code",
   "execution_count": 7,
   "metadata": {},
   "outputs": [],
   "source": [
    "# load the trace times\n",
    "trace_times = np.load('../data/CO data/Trace times.npy', allow_pickle=True)"
   ]
  },
  {
   "cell_type": "code",
   "execution_count": 8,
   "metadata": {},
   "outputs": [
    {
     "data": {
      "text/plain": [
       "dict_keys(['DA NAc', 'NE NAc', '5HT NAc', 'ACh NAc'])"
      ]
     },
     "execution_count": 8,
     "metadata": {},
     "output_type": "execute_result"
    }
   ],
   "source": [
    "traces.keys()"
   ]
  },
  {
   "cell_type": "code",
   "execution_count": 9,
   "metadata": {},
   "outputs": [
    {
     "data": {
      "text/plain": [
       "(218572, 4)"
      ]
     },
     "execution_count": 9,
     "metadata": {},
     "output_type": "execute_result"
    }
   ],
   "source": [
    "# Combine the traces for all NMs into one 2D array\n",
    "all_nms = np.array([traces[trace] for trace in traces.keys()])\n",
    "all_nms = np.transpose(all_nms)\n",
    "\n",
    "# change it to an array of floats (previously it was an array of object datatype)\n",
    "all_nms_new = all_nms.astype(np.float64)\n",
    "all_nms_new.shape\n"
   ]
  },
  {
   "cell_type": "code",
   "execution_count": 10,
   "metadata": {},
   "outputs": [
    {
     "name": "stdout",
     "output_type": "stream",
     "text": [
      "shape of formatted array: (218572, 1)\n",
      "shape of formatted array: (218572, 1)\n",
      "shape of formatted array: (218572, 1)\n",
      "shape of formatted array: (218572, 1)\n"
     ]
    }
   ],
   "source": [
    "# the individual nms\n",
    "individual_datasets = cp.individual_datasets(traces_=traces)"
   ]
  },
  {
   "cell_type": "code",
   "execution_count": 11,
   "metadata": {},
   "outputs": [],
   "source": [
    "n_trials = 1765"
   ]
  },
  {
   "cell_type": "code",
   "execution_count": 12,
   "metadata": {},
   "outputs": [],
   "source": [
    "# get the choice time \n",
    "choice_times = df_trials_ses['choice_time'][0:n_trials].to_numpy()"
   ]
  },
  {
   "cell_type": "code",
   "execution_count": 14,
   "metadata": {},
   "outputs": [
    {
     "name": "stdout",
     "output_type": "stream",
     "text": [
      "neural tensor shape:  torch.Size([1717, 80])\n",
      "reward labels shape:  (1717,)\n",
      "choice labels shape:  (1717,)\n",
      "rpe labels shape: (1717,)\n"
     ]
    }
   ],
   "source": [
    "# get the nm data for the rewarded/unrewarded trials\n",
    "\n",
    "all_nms_HD, trial_labels_, choice_labels, n_licks, rpe_labels = cp.format_data(all_nms, df=df_trials_ses, trace_times_=trace_times, choice_times_=choice_times)\n"
   ]
  },
  {
   "cell_type": "code",
   "execution_count": 15,
   "metadata": {},
   "outputs": [
    {
     "data": {
      "text/plain": [
       "(80,)"
      ]
     },
     "execution_count": 15,
     "metadata": {},
     "output_type": "execute_result"
    }
   ],
   "source": [
    "np.std(all_nms_HD.numpy(), axis=0).shape"
   ]
  },
  {
   "cell_type": "code",
   "execution_count": 16,
   "metadata": {},
   "outputs": [],
   "source": [
    "# get the average df_f signal for all the 1717 trials\n",
    "ave_nms = np.average(all_nms_HD, axis=0)"
   ]
  },
  {
   "cell_type": "markdown",
   "metadata": {},
   "source": [
    "## Make the plots"
   ]
  },
  {
   "cell_type": "code",
   "execution_count": 17,
   "metadata": {},
   "outputs": [],
   "source": [
    "def nm_signals(nm_data, labels=['DA', 'NE', '5HT', 'ACh']):\n",
    "\n",
    "    fig = plt.figure(figsize=(8,8))\n",
    "    gs = gridspec.GridSpec(2,2, figure=fig)\n",
    "\n",
    "    ax1 = fig.add_subplot(gs[0,0])\n",
    "    ax2 = fig.add_subplot(gs[1,0])\n",
    "    ax3 = fig.add_subplot(gs[1,1])\n",
    "\n",
    "\n",
    "    for i, nm in enumerate(nm_data):\n",
    "\n",
    "        nm_HD, trial_labels, choice_labels, n_licks, rpe_labels = cp.format_data(nm_data[i], df_trials_ses, trace_times, choice_times)\n",
    "        \n",
    "        #all trials average\n",
    "        ave_nm = np.average(nm_HD, axis=0)\n",
    "\n",
    "        # rewarded trials average\n",
    "        rewarded_ave = np.average(nm_HD[trial_labels==1],axis=0)\n",
    "\n",
    "        # unrewarded trials average\n",
    "        unrewarded_ave = np.average(nm_HD[trial_labels==0],axis=0)\n",
    "        \n",
    "        # plot all trials\n",
    "        ax1.plot(ave_nm, label=labels[i])\n",
    "\n",
    "        # plot rewarded trials\n",
    "        ax2.plot(rewarded_ave, label=labels[i])\n",
    "\n",
    "        # plot unrewarded trials\n",
    "        ax3.plot(unrewarded_ave, label=labels[i])\n",
    "\n",
    "\n",
    "    ax1.set_xlabel('timesteps(seconds)')\n",
    "    ax1.set_ylabel('df_f signal')\n",
    "    ax1.set_title('All trials')\n",
    "    ax1.legend()\n",
    "\n",
    "    ax2.set_xlabel('timesteps(seconds)')\n",
    "    ax2.set_ylabel('df_f signal')\n",
    "    ax2.set_title('Rewarded Trials')\n",
    "    ax2.legend()\n",
    "\n",
    "    ax3.set_xlabel('timesteps(seconds)')\n",
    "    ax3.set_ylabel('df_f signal')\n",
    "    ax3.set_title('Unrewarded Trials')\n",
    "    ax3.legend()\n",
    "\n",
    "\n",
    "    gs.tight_layout(figure=fig)\n",
    "\n",
    "    plt.tight_layout()\n"
   ]
  },
  {
   "cell_type": "code",
   "execution_count": 18,
   "metadata": {},
   "outputs": [
    {
     "data": {
      "text/plain": [
       "list"
      ]
     },
     "execution_count": 18,
     "metadata": {},
     "output_type": "execute_result"
    }
   ],
   "source": [
    "type(individual_datasets)"
   ]
  },
  {
   "cell_type": "code",
   "execution_count": 19,
   "metadata": {},
   "outputs": [
    {
     "name": "stdout",
     "output_type": "stream",
     "text": [
      "neural tensor shape:  torch.Size([1717, 20])\n",
      "reward labels shape:  (1717,)\n",
      "choice labels shape:  (1717,)\n",
      "rpe labels shape: (1717,)\n",
      "neural tensor shape:  torch.Size([1717, 20])\n",
      "reward labels shape:  (1717,)\n",
      "choice labels shape:  (1717,)\n",
      "rpe labels shape: (1717,)\n",
      "neural tensor shape:  torch.Size([1717, 20])\n",
      "reward labels shape:  (1717,)\n",
      "choice labels shape:  (1717,)\n",
      "rpe labels shape: (1717,)\n",
      "neural tensor shape:  torch.Size([1717, 20])\n",
      "reward labels shape:  (1717,)\n",
      "choice labels shape:  (1717,)\n",
      "rpe labels shape: (1717,)\n"
     ]
    },
    {
     "name": "stderr",
     "output_type": "stream",
     "text": [
      "/tmp/ipykernel_31781/3302058917.py:52: UserWarning: This figure includes Axes that are not compatible with tight_layout, so results might be incorrect.\n",
      "  plt.tight_layout()\n"
     ]
    }
   ],
   "source": [
    "nm_signals(individual_datasets)"
   ]
  },
  {
   "cell_type": "markdown",
   "metadata": {},
   "source": [
    "Now let's group them by Neuromodulators."
   ]
  },
  {
   "cell_type": "code",
   "execution_count": 22,
   "metadata": {},
   "outputs": [],
   "source": [
    "# Separate function into one that produces the average traces and one that plots them\n",
    "def ave_nm_signal(nm_data):\n",
    "\n",
    "    # lists to store the average values\n",
    "    all_ave = []\n",
    "    all_rewarded = []\n",
    "    all_unrewarded = []\n",
    "\n",
    "    # lists to store the errors (st. d)\n",
    "    alt_sd = []\n",
    "    rewarded_sd = []\n",
    "    unrewarded_sd = []\n",
    "\n",
    "    for nm in nm_data:\n",
    "\n",
    "        # get the nm data in the 1s window around the choice\n",
    "        nm_HD, trial_labels, choice_labels,n_licks, rpe_labels = cp.format_data(nm, df_trials_ses, trace_times, choice_times)\n",
    "        \n",
    "        # all trials average and sd\n",
    "        ave_nm = np.average(nm_HD, axis=0)\n",
    "        all_sd = np.std(nm_HD.numpy(), axis=0)\n",
    "\n",
    "        all_ave.append(ave_nm)\n",
    "        alt_sd.append(all_sd)\n",
    "\n",
    "        # rewarded trials average and sd\n",
    "        rewarded_ave = np.average(nm_HD[trial_labels==1],axis=0)\n",
    "        r_sd = np.std(nm_HD[trial_labels==1].numpy(), axis=0)\n",
    "\n",
    "        all_rewarded.append(rewarded_ave)\n",
    "        rewarded_sd.append(r_sd)\n",
    "\n",
    "        # unrewarded trials average and sd\n",
    "        unrewarded_ave = np.average(nm_HD[trial_labels==0],axis=0)\n",
    "        unr_sd = np.std(nm_HD[trial_labels==0].numpy(), axis=0)\n",
    "\n",
    "        all_unrewarded.append(unrewarded_ave)\n",
    "        unrewarded_sd.append(unr_sd)\n",
    "\n",
    "    sd_lists = [alt_sd, rewarded_sd, unrewarded_sd]\n",
    "\n",
    "    return all_ave, all_rewarded, all_unrewarded, sd_lists\n"
   ]
  },
  {
   "cell_type": "code",
   "execution_count": 23,
   "metadata": {},
   "outputs": [
    {
     "name": "stdout",
     "output_type": "stream",
     "text": [
      "neural tensor shape:  torch.Size([1717, 20])\n",
      "reward labels shape:  (1717,)\n",
      "choice labels shape:  (1717,)\n",
      "rpe labels shape: (1717,)\n",
      "neural tensor shape:  torch.Size([1717, 20])\n",
      "reward labels shape:  (1717,)\n",
      "choice labels shape:  (1717,)\n",
      "rpe labels shape: (1717,)\n",
      "neural tensor shape:  torch.Size([1717, 20])\n",
      "reward labels shape:  (1717,)\n",
      "choice labels shape:  (1717,)\n",
      "rpe labels shape: (1717,)\n",
      "neural tensor shape:  torch.Size([1717, 20])\n",
      "reward labels shape:  (1717,)\n",
      "choice labels shape:  (1717,)\n",
      "rpe labels shape: (1717,)\n"
     ]
    }
   ],
   "source": [
    "ave_nm_, rewarded_ave_, unrewarded_ave_, sd_lists = ave_nm_signal(individual_datasets) "
   ]
  },
  {
   "cell_type": "code",
   "execution_count": 24,
   "metadata": {},
   "outputs": [
    {
     "data": {
      "text/plain": [
       "3"
      ]
     },
     "execution_count": 24,
     "metadata": {},
     "output_type": "execute_result"
    }
   ],
   "source": [
    "len(sd_lists)"
   ]
  },
  {
   "cell_type": "code",
   "execution_count": 25,
   "metadata": {},
   "outputs": [
    {
     "data": {
      "text/plain": [
       "array([0.00395368, 0.00401367, 0.00405143, 0.00405768, 0.00398732,\n",
       "       0.00398647, 0.00393415, 0.00400911, 0.00399988, 0.00404183,\n",
       "       0.0041532 , 0.00402012, 0.00391139, 0.00388171, 0.00378369,\n",
       "       0.0036522 , 0.0037269 , 0.00379448, 0.00374706, 0.00374168])"
      ]
     },
     "execution_count": 25,
     "metadata": {},
     "output_type": "execute_result"
    }
   ],
   "source": [
    "sd_lists[2][3]"
   ]
  },
  {
   "cell_type": "code",
   "execution_count": 26,
   "metadata": {},
   "outputs": [],
   "source": [
    "def plot_ave_signal(all_signals, rewarded_signals, unrewarded_signals, sd_lists_, labels=['Dopamine','Norepinephrine','Serotonin','Acetylcholine']):\n",
    "\n",
    "    fig = plt.figure(figsize=(8,6))\n",
    "    gs = gridspec.GridSpec(2,2, figure=fig)\n",
    "\n",
    "    ax1 = fig.add_subplot(gs[0,0])\n",
    "    ax2 = fig.add_subplot(gs[0,1])\n",
    "    ax3 = fig.add_subplot(gs[1,0])\n",
    "    ax4 = fig.add_subplot(gs[1,1])\n",
    "\n",
    "    axes = [ax1, ax2, ax3, ax4]\n",
    "    time_points = np.round(np.arange(-0.5,0.50,0.05),2)\n",
    "\n",
    "    # loop thru each nm\n",
    "    for i,ax  in enumerate(axes) :\n",
    "\n",
    "        # s.d.s \n",
    "        yerr_r = sd_lists_[1][i]\n",
    "        yerr_ur = sd_lists_[2][i]\n",
    "\n",
    "        # plot all trials signal\n",
    "        ax.errorbar(time_points, rewarded_signals[i],color='g')\n",
    "        ax.fill_between(time_points,rewarded_signals[i]+yerr_r,rewarded_signals[i]-yerr_r,label='rewarded trials',color='g',alpha=0.25)\n",
    "        ax.errorbar(time_points, unrewarded_signals[i],color='r')\n",
    "        ax.fill_between(time_points,unrewarded_signals[i]+yerr_ur,unrewarded_signals[i]-yerr_ur,label='unrewarded trials',color='r',alpha=0.25)\n",
    "        ax.set_ylim(0,0.07)\n",
    "        ax.axvline(x=0,label='choice time',linestyle='--', c='k')\n",
    "        ax.set_xlabel('Time from choice (s)', fontsize=13)\n",
    "        ax.set_ylabel('dF_F signal', fontsize=13)\n",
    "        ax.set_title('{}'.format(labels[i]), fontsize=13)\n",
    "        ax.legend(loc=2, fontsize='small')\n",
    "\n",
    "    \n",
    "    plt.suptitle(\"4 Neuromodulators Recorded Simultaneously Using Fiber Photometry\", fontsize=15)\n",
    "    plt.tight_layout()\n",
    "    gs.tight_layout(figure=fig)\n"
   ]
  },
  {
   "cell_type": "code",
   "execution_count": 27,
   "metadata": {},
   "outputs": [],
   "source": [
    "plot_ave_signal(ave_nm_, rewarded_ave_, unrewarded_ave_,sd_lists)\n",
    "    "
   ]
  }
 ],
 "metadata": {
  "kernelspec": {
   "display_name": "base",
   "language": "python",
   "name": "python3"
  },
  "language_info": {
   "codemirror_mode": {
    "name": "ipython",
    "version": 3
   },
   "file_extension": ".py",
   "mimetype": "text/x-python",
   "name": "python",
   "nbconvert_exporter": "python",
   "pygments_lexer": "ipython3",
   "version": "3.9.17"
  },
  "vscode": {
   "interpreter": {
    "hash": "d4d1e4263499bec80672ea0156c357c1ee493ec2b1c70f0acce89fc37c4a6abe"
   }
  }
 },
 "nbformat": 4,
 "nbformat_minor": 2
}
