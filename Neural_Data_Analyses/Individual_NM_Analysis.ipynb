{
 "cells": [
  {
   "cell_type": "markdown",
   "metadata": {},
   "source": [
    "This notebook will have an analysis that studies the contribution of individual neuromodulators to the encoding of reward during this task. The data is from the Nucleus Acumbens."
   ]
  },
  {
   "cell_type": "code",
   "execution_count": 1,
   "metadata": {},
   "outputs": [
    {
     "name": "stderr",
     "output_type": "stream",
     "text": [
      "/opt/conda/lib/python3.9/site-packages/cebra/datasets/monkey_reaching.py:35: UserWarning: Could not import the nlb_tools package required for data loading of cebra.datasets.monkey_reaching. Dataset will not be available. If required, you can install the dataset by running pip install git+https://github.com/neurallatents/nlb_tools.\n",
      "  warnings.warn(\n"
     ]
    }
   ],
   "source": [
    "\n",
    "import numpy as np\n",
    "import itertools\n",
    "import matplotlib.pyplot as plt\n",
    "import matplotlib.gridspec as gridspec\n",
    "from mpl_toolkits.mplot3d import Axes3D\n",
    "from scipy.integrate import solve_ivp\n",
    "import cebra.data\n",
    "import torch\n",
    "import cebra.integrations\n",
    "import cebra.datasets\n",
    "from cebra import CEBRA\n",
    "import torch\n",
    "import pickle\n",
    "import cebra_pack.cebra_utils as cp\n",
    "\n",
    "from sklearn.linear_model import LogisticRegression\n",
    "from sklearn.metrics import precision_recall_curve \n",
    "from sklearn.metrics import confusion_matrix\n",
    "from sklearn.metrics import roc_curve\n",
    "from sklearn.metrics import roc_auc_score\n",
    "from sklearn.metrics import auc\n",
    "\n",
    "\n",
    "\n",
    "from matplotlib.collections import LineCollection\n",
    "import pandas as pd"
   ]
  },
  {
   "cell_type": "markdown",
   "metadata": {},
   "source": [
    "Iterate this for the 4 combinations of 3 NMs\n",
    "\n",
    "- separate the data into these 4 combinations and use this as input\n",
    "- The different datasets: \n",
    "    - without DA, NE, 5HT, AcH"
   ]
  },
  {
   "cell_type": "markdown",
   "metadata": {},
   "source": [
    "## Load and format the Neuromodulator (NM) data and behavioural labels"
   ]
  },
  {
   "cell_type": "code",
   "execution_count": 3,
   "metadata": {},
   "outputs": [],
   "source": [
    "# load the dataframe\n",
    "df_trials_ses = pickle.load(open('../data/CO data/df.pkl', \"rb\"))"
   ]
  },
  {
   "cell_type": "code",
   "execution_count": 4,
   "metadata": {},
   "outputs": [],
   "source": [
    "# load the dictionary containing the traces\n",
    "traces = pickle.load(open('../data/CO data/traces.pkl', \"rb\"))"
   ]
  },
  {
   "cell_type": "code",
   "execution_count": 5,
   "metadata": {},
   "outputs": [],
   "source": [
    "# load the trace times\n",
    "trace_times = np.load('../data/CO data/Trace times.npy', allow_pickle=True)"
   ]
  },
  {
   "cell_type": "code",
   "execution_count": 6,
   "metadata": {},
   "outputs": [],
   "source": [
    "# Combine the traces for all NMs into one 2D array\n",
    "all_nms = np.array([traces[trace] for trace in traces.keys()])\n",
    "all_nms = np.transpose(all_nms)"
   ]
  },
  {
   "cell_type": "code",
   "execution_count": 7,
   "metadata": {},
   "outputs": [
    {
     "data": {
      "text/plain": [
       "(218572, 4)"
      ]
     },
     "execution_count": 7,
     "metadata": {},
     "output_type": "execute_result"
    }
   ],
   "source": [
    "all_nms.shape"
   ]
  },
  {
   "cell_type": "code",
   "execution_count": 8,
   "metadata": {},
   "outputs": [
    {
     "data": {
      "text/plain": [
       "(218572, 4)"
      ]
     },
     "execution_count": 8,
     "metadata": {},
     "output_type": "execute_result"
    }
   ],
   "source": [
    "# change it to an array of floats (previously it was an array of object datatype)\n",
    "all_nms_new = all_nms.astype(np.float64)\n",
    "all_nms_new.shape"
   ]
  },
  {
   "cell_type": "code",
   "execution_count": 9,
   "metadata": {},
   "outputs": [],
   "source": [
    "n_trials = 1765"
   ]
  },
  {
   "cell_type": "code",
   "execution_count": 10,
   "metadata": {},
   "outputs": [],
   "source": [
    "# get the choice time \n",
    "choice_times = df_trials_ses['choice_time'][0:n_trials].to_numpy()"
   ]
  },
  {
   "cell_type": "code",
   "execution_count": 11,
   "metadata": {},
   "outputs": [
    {
     "data": {
      "text/plain": [
       "1717"
      ]
     },
     "execution_count": 11,
     "metadata": {},
     "output_type": "execute_result"
    }
   ],
   "source": [
    "np.unique(np.isnan(choice_times),return_counts=True)[1][0]"
   ]
  },
  {
   "cell_type": "code",
   "execution_count": 12,
   "metadata": {},
   "outputs": [],
   "source": [
    "# Make a function to format the NM data into a 1s window around the choice\n",
    "\n",
    "def format_data(neural_data, df = df_trials_ses, trace_times_ = trace_times, choice_times_ = choice_times, window_size=20, n_trials=1765):\n",
    "\n",
    "    # define the number of trials where the mouse made a choice\n",
    "    n_choice_trials = np.unique(np.isnan(choice_times_),return_counts=True)[1][0]\n",
    "\n",
    "    # list to hold all the 1s windows\n",
    "    n_data_window = []\n",
    "\n",
    "    # new trial label\n",
    "    trial_labels = []\n",
    "\n",
    "    # loop over all trials\n",
    "    for i in range(0,n_trials):\n",
    "\n",
    "        # skip trials where the animal didn't make a choice (null choice time)\n",
    "        if np.isnan(choice_times_[i]):\n",
    "            continue\n",
    "\n",
    "        # find the index of the closest time to the choice time in the trace_times array \n",
    "        idx = np.abs(trace_times_ - choice_times_[i]).argmin()\n",
    "\n",
    "        # take the previous 10 and the next 10 values of the NM data at these indices - 1s window\n",
    "        n_data_window.append(neural_data[idx-10:idx+10])\n",
    "\n",
    "        # label the timepoints as rewarded or unrewarded\n",
    "        if df['reward'].iloc[i]:\n",
    "            # new trial label\n",
    "            trial_labels.append(1)\n",
    "\n",
    "        elif df['reward'].iloc[i]==False:\n",
    "            # new trial label\n",
    "            trial_labels.append(0)\n",
    "\n",
    "\n",
    "    # stack the nm data for each trial\n",
    "    nms_HD = np.stack(n_data_window).reshape((n_choice_trials,-1))\n",
    "    # format it into a tensor\n",
    "    nms_HD = torch.from_numpy(nms_HD.astype(np.float64))\n",
    "    print(\"neural tensor shape: \", nms_HD.shape)\n",
    "\n",
    "    # convert trial labels into an array\n",
    "    trial_labels = np.array(trial_labels)\n",
    "    print(\"labels shape: \",trial_labels.shape)\n",
    "\n",
    "    return nms_HD, trial_labels\n"
   ]
  },
  {
   "cell_type": "code",
   "execution_count": 13,
   "metadata": {},
   "outputs": [
    {
     "name": "stdout",
     "output_type": "stream",
     "text": [
      "neural tensor shape:  torch.Size([1717, 80])\n",
      "labels shape:  (1717,)\n"
     ]
    }
   ],
   "source": [
    "all_nms_HD, trial_labels_ = format_data(all_nms)"
   ]
  },
  {
   "cell_type": "markdown",
   "metadata": {},
   "source": [
    "## Build and train the model then compute embeddings"
   ]
  },
  {
   "cell_type": "code",
   "execution_count": 14,
   "metadata": {},
   "outputs": [],
   "source": [
    "max_iterations = 2000"
   ]
  },
  {
   "cell_type": "code",
   "execution_count": 15,
   "metadata": {},
   "outputs": [
    {
     "data": {
      "text/plain": [
       "(1717,)"
      ]
     },
     "execution_count": 15,
     "metadata": {},
     "output_type": "execute_result"
    }
   ],
   "source": [
    "trial_labels_.shape"
   ]
  },
  {
   "cell_type": "code",
   "execution_count": 16,
   "metadata": {},
   "outputs": [],
   "source": [
    "def build_train_compute(neural_data, b_label):\n",
    "\n",
    "\n",
    "    # build time and behaviour models\n",
    "    cebra_time_model = CEBRA(model_architecture='offset10-model-mse',\n",
    "                        batch_size=512,\n",
    "                        learning_rate=3e-4,\n",
    "                        temperature=1,\n",
    "                        output_dimension=3,\n",
    "                        max_iterations=max_iterations,\n",
    "                        distance='euclidean',\n",
    "                        conditional='time',\n",
    "                        device='cuda_if_available',\n",
    "                        verbose=True,\n",
    "                        time_offsets=10) \n",
    "\n",
    "    cebra_behaviour_model = CEBRA(model_architecture='offset10-model-mse',\n",
    "                        batch_size=512,\n",
    "                        learning_rate=3e-4,\n",
    "                        temperature=1,\n",
    "                        output_dimension=3,\n",
    "                        max_iterations=max_iterations,\n",
    "                        distance='euclidean',\n",
    "                        conditional='time_delta',\n",
    "                        device='cuda_if_available',\n",
    "                        verbose=True,\n",
    "                        time_offsets=10)\n",
    "\n",
    "    # train them both\n",
    "    cebra_time_model.fit(neural_data)\n",
    "    cebra_behaviour_model.fit(neural_data, b_label)\n",
    "\n",
    "    # compute the embeddings\n",
    "    time_embedding = cebra_time_model.transform(neural_data)\n",
    "    behaviour_embedding = cebra_behaviour_model.transform(neural_data)\n",
    "\n",
    "    # return the embeddings \n",
    "\n",
    "    return time_embedding, behaviour_embedding"
   ]
  },
  {
   "cell_type": "code",
   "execution_count": 17,
   "metadata": {},
   "outputs": [
    {
     "data": {
      "text/plain": [
       "torch.Size([1717, 80])"
      ]
     },
     "execution_count": 17,
     "metadata": {},
     "output_type": "execute_result"
    }
   ],
   "source": [
    "all_nms_HD.shape"
   ]
  },
  {
   "cell_type": "code",
   "execution_count": 18,
   "metadata": {},
   "outputs": [
    {
     "name": "stderr",
     "output_type": "stream",
     "text": [
      "  0%|          | 0/2000 [00:00<?, ?it/s]/opt/conda/lib/python3.9/site-packages/torch/nn/modules/conv.py:309: UserWarning: Applied workaround for CuDNN issue, install nvrtc.so (Triggered internally at ../aten/src/ATen/native/cudnn/Conv_v8.cpp:80.)\n",
      "  return F.conv1d(input, weight, bias, self.stride,\n",
      "pos:  0.8375 neg:  3.0330 total:  3.8706 temperature:  1.0000: 100%|██████████| 2000/2000 [00:16<00:00, 119.25it/s]\n",
      "pos:  0.2602 neg:  5.4598 total:  5.7199 temperature:  1.0000: 100%|██████████| 2000/2000 [00:12<00:00, 156.67it/s]\n"
     ]
    }
   ],
   "source": [
    "t_embed_4, b_embed_4 = build_train_compute(all_nms_HD,trial_labels_)"
   ]
  },
  {
   "cell_type": "markdown",
   "metadata": {},
   "source": [
    "## Then visualize the embeddings"
   ]
  },
  {
   "cell_type": "code",
   "execution_count": 19,
   "metadata": {},
   "outputs": [],
   "source": [
    "# divide the labels into rewarded and unrewarded\n",
    "def define_label_classes(trial_labels = trial_labels_):\n",
    "\n",
    "    rewarded = trial_labels==1\n",
    "    unrewarded = trial_labels==0\n",
    "\n",
    "    rewarded = rewarded.flatten()\n",
    "    unrewarded = unrewarded.flatten()\n",
    "\n",
    "    return rewarded, unrewarded"
   ]
  },
  {
   "cell_type": "code",
   "execution_count": 20,
   "metadata": {},
   "outputs": [],
   "source": [
    "rewarded, unrewarded = define_label_classes()"
   ]
  },
  {
   "cell_type": "code",
   "execution_count": 21,
   "metadata": {},
   "outputs": [],
   "source": [
    "# view the embeddings\n",
    "\n",
    "def view(time_embedding, behaviour_embedding, labels, label_classes, title =\"Different Angles\", size=0.8):\n",
    " \n",
    "    # create a figure and make the plots\n",
    "    fig = plt.figure(figsize=(14,8))\n",
    "    gs = gridspec.GridSpec(1, 2, figure=fig)\n",
    "\n",
    "\n",
    "    ax81 = fig.add_subplot(gs[0,0], projection='3d')\n",
    "    ax82 = fig.add_subplot(gs[0,1], projection='3d')\n",
    "    # ax81.axis('off')\n",
    "    # ax82.axis('off')\n",
    "\n",
    "\n",
    "    # colour maps\n",
    "    colours = ['cool', 'plasma', 'spring']\n",
    "\n",
    "    # plot the time embedding \n",
    "    cebra.plot_embedding(embedding=time_embedding[label_classes[0],:], embedding_labels=labels[label_classes[0]],ax=ax81, markersize=2, title='Time embedding', cmap=colours[0])\n",
    "    cebra.plot_embedding(embedding=time_embedding[label_classes[1],:], embedding_labels=labels[label_classes[1]],ax=ax81, markersize=2, title='Time embedding', cmap=colours[1])\n",
    "\n",
    "\n",
    "    # plot the behaviour embedding \n",
    "    cebra.plot_embedding(embedding=behaviour_embedding[label_classes[0],:], embedding_labels=labels[label_classes[0]],ax=ax82, markersize=2, title='Behaviour embedding', cmap=colours[0],)\n",
    "    cebra.plot_embedding(embedding=behaviour_embedding[label_classes[1],:], embedding_labels=labels[label_classes[1]],ax=ax82,markersize=2, title='Behaviour embedding',  cmap=colours[1])\n",
    "\n",
    "    gs.tight_layout(figure=fig)\n",
    "\n",
    "    print(\"prepaing figure at multiple angles\")\n",
    "\n",
    "    # then view it at multiple angles\n",
    "    cp.view_embedding(time_embedding, behaviour_embedding,s=size,label=labels,label_class=label_classes, titles=['time embedding','behaviour_embedding'], main_title=title)"
   ]
  },
  {
   "cell_type": "code",
   "execution_count": 22,
   "metadata": {},
   "outputs": [
    {
     "name": "stdout",
     "output_type": "stream",
     "text": [
      "prepaing figure at multiple angles\n"
     ]
    }
   ],
   "source": [
    "view(t_embed_4, b_embed_4, trial_labels_,label_classes=[rewarded,unrewarded], title=\"All 4 NMs\")"
   ]
  },
  {
   "cell_type": "markdown",
   "metadata": {},
   "source": [
    "## Analysis of different combinations of Neuromodulators"
   ]
  },
  {
   "cell_type": "code",
   "execution_count": 23,
   "metadata": {},
   "outputs": [
    {
     "data": {
      "text/plain": [
       "dict_keys(['DA NAc', 'NE NAc', '5HT NAc', 'ACh NAc'])"
      ]
     },
     "execution_count": 23,
     "metadata": {},
     "output_type": "execute_result"
    }
   ],
   "source": [
    "traces.keys()"
   ]
  },
  {
   "cell_type": "code",
   "execution_count": 24,
   "metadata": {},
   "outputs": [],
   "source": [
    "# format the arrays\n",
    "def create_datasets(traces_=traces):\n",
    "\n",
    "    # create a list to hold the different combinations of NM data\n",
    "    datasets = []\n",
    "\n",
    "    # iterate through the keys in the dictionary holding the NM data\n",
    "    for key in traces_:\n",
    "\n",
    "        # at each iteration make an array of NM data and exclude the current NM from the array\n",
    "        array = np.array([traces_[trace] for trace in traces_.keys() if trace !=key ])\n",
    "\n",
    "        # format the array \n",
    "        f_array = np.transpose(array)\n",
    "        f_array = f_array.astype(np.float64)\n",
    "        print(\"shape of formatted array:\", f_array.shape)\n",
    "        datasets.append(f_array)\n",
    "\n",
    "\n",
    "    return datasets"
   ]
  },
  {
   "cell_type": "code",
   "execution_count": 25,
   "metadata": {},
   "outputs": [
    {
     "name": "stdout",
     "output_type": "stream",
     "text": [
      "shape of formatted array: (218572, 3)\n",
      "shape of formatted array: (218572, 3)\n",
      "shape of formatted array: (218572, 3)\n",
      "shape of formatted array: (218572, 3)\n"
     ]
    }
   ],
   "source": [
    "datasets = create_datasets()"
   ]
  },
  {
   "cell_type": "code",
   "execution_count": 26,
   "metadata": {},
   "outputs": [],
   "source": [
    "# for each NM combination\n",
    "def nm_analysis(data, missing_nm=\"\" ):\n",
    "\n",
    "    # format the data into 1s window around the choice and create the labels\n",
    "    nms_HD, t_labels = format_data(neural_data=data)\n",
    "\n",
    "    # Build and train the model then compute embeddings\n",
    "    t_embed, b_embed = build_train_compute(nms_HD, t_labels)\n",
    "\n",
    "    # define the label classes\n",
    "    rewarded, unrewarded = define_label_classes(t_labels)\n",
    "\n",
    "    # view the embeddings\n",
    "    #view(t_embed, b_embed, t_labels,label_classes=[rewarded, unrewarded],title=missing_nm )\n",
    "\n",
    "    return t_embed, b_embed\n",
    "\n"
   ]
  },
  {
   "cell_type": "markdown",
   "metadata": {},
   "source": [
    "### No DA"
   ]
  },
  {
   "cell_type": "code",
   "execution_count": 27,
   "metadata": {},
   "outputs": [
    {
     "name": "stdout",
     "output_type": "stream",
     "text": [
      "neural tensor shape:  torch.Size([1717, 60])\n",
      "labels shape:  (1717,)\n"
     ]
    },
    {
     "name": "stderr",
     "output_type": "stream",
     "text": [
      "pos:  0.9566 neg:  3.0594 total:  4.0160 temperature:  1.0000: 100%|██████████| 2000/2000 [00:13<00:00, 151.52it/s]\n",
      "pos:  0.3076 neg:  5.4718 total:  5.7793 temperature:  1.0000: 100%|██████████| 2000/2000 [00:14<00:00, 141.62it/s]\n"
     ]
    }
   ],
   "source": [
    "t_embed_nda, b_embed_nda = nm_analysis(datasets[0], \"No Dopamine\")"
   ]
  },
  {
   "cell_type": "markdown",
   "metadata": {},
   "source": [
    "No NE"
   ]
  },
  {
   "cell_type": "code",
   "execution_count": 28,
   "metadata": {},
   "outputs": [
    {
     "name": "stdout",
     "output_type": "stream",
     "text": [
      "neural tensor shape:  torch.Size([1717, 60])\n",
      "labels shape:  (1717,)\n"
     ]
    },
    {
     "name": "stderr",
     "output_type": "stream",
     "text": [
      "pos:  0.8359 neg:  3.0970 total:  3.9329 temperature:  1.0000: 100%|██████████| 2000/2000 [00:13<00:00, 152.23it/s]\n",
      "pos:  0.3352 neg:  5.5234 total:  5.8586 temperature:  1.0000: 100%|██████████| 2000/2000 [00:13<00:00, 145.51it/s]\n"
     ]
    }
   ],
   "source": [
    "t_embed_nne, b_embed_nne = nm_analysis(datasets[1], \"No NE\")"
   ]
  },
  {
   "cell_type": "markdown",
   "metadata": {},
   "source": [
    "No 5HT"
   ]
  },
  {
   "cell_type": "code",
   "execution_count": 29,
   "metadata": {},
   "outputs": [
    {
     "name": "stdout",
     "output_type": "stream",
     "text": [
      "neural tensor shape:  torch.Size([1717, 60])\n",
      "labels shape:  (1717,)\n"
     ]
    },
    {
     "name": "stderr",
     "output_type": "stream",
     "text": [
      "pos:  0.8078 neg:  3.1600 total:  3.9678 temperature:  1.0000: 100%|██████████| 2000/2000 [00:12<00:00, 154.76it/s]\n",
      "pos:  0.2856 neg:  5.4764 total:  5.7621 temperature:  1.0000: 100%|██████████| 2000/2000 [00:13<00:00, 150.79it/s]\n"
     ]
    }
   ],
   "source": [
    "t_embed_nht, b_embed_nht = nm_analysis(datasets[2], \"No 5HT\")"
   ]
  },
  {
   "cell_type": "markdown",
   "metadata": {},
   "source": [
    "No ACh"
   ]
  },
  {
   "cell_type": "code",
   "execution_count": 30,
   "metadata": {},
   "outputs": [
    {
     "name": "stdout",
     "output_type": "stream",
     "text": [
      "neural tensor shape:  torch.Size([1717, 60])\n",
      "labels shape:  (1717,)\n"
     ]
    },
    {
     "name": "stderr",
     "output_type": "stream",
     "text": [
      "pos:  0.8359 neg:  3.1834 total:  4.0193 temperature:  1.0000: 100%|██████████| 2000/2000 [00:12<00:00, 155.24it/s]\n",
      "pos:  0.3135 neg:  5.4655 total:  5.7791 temperature:  1.0000: 100%|██████████| 2000/2000 [00:13<00:00, 146.18it/s]\n"
     ]
    }
   ],
   "source": [
    "t_embed_nach, b_embed_nach = nm_analysis(datasets[3], \"No Ach\")"
   ]
  },
  {
   "cell_type": "code",
   "execution_count": 31,
   "metadata": {},
   "outputs": [],
   "source": [
    "# make list of the embeddings produced\n",
    "embeddings = [b_embed_nda, b_embed_nne, b_embed_nht, b_embed_nach]"
   ]
  },
  {
   "cell_type": "code",
   "execution_count": 32,
   "metadata": {},
   "outputs": [],
   "source": [
    "n_plots = len(embeddings)"
   ]
  },
  {
   "cell_type": "code",
   "execution_count": 33,
   "metadata": {},
   "outputs": [],
   "source": [
    "# plot the behaviour embeddings together for all combinations\n",
    "fig = plt.figure(figsize=(8,4*n_plots))\n",
    "gs = gridspec.GridSpec(n_plots, 2, figure=fig)\n",
    "\n",
    "c = ['cool','plasma','pink','winter']\n",
    "titles = ['DA missing', 'NE missing', '5HT missing', 'ACh missing']\n",
    "\n",
    "for i, embed in enumerate(embeddings):\n",
    "\n",
    "    # create the axes\n",
    "    ax1 = fig.add_subplot(gs[i // 2, i%2], projection='3d')\n",
    "\n",
    "    # plot the embedding\n",
    "    cebra.plot_embedding(embedding=embed[rewarded,:], embedding_labels=trial_labels_[rewarded], ax=ax1, markersize=2,title=titles[i], cmap=c[0])\n",
    "    cebra.plot_embedding(embedding=embed[unrewarded,:], embedding_labels=trial_labels_[unrewarded], ax=ax1, markersize=2,title=titles[i], cmap=c[1])\n",
    "\n",
    "plt.suptitle(\"Embeddings of 3 Neuromodulators\")\n",
    "plt.tight_layout()\n"
   ]
  },
  {
   "cell_type": "markdown",
   "metadata": {},
   "source": [
    "### Individual neuromodulators\n",
    "\n",
    "Now let's study the NMs individually and see which ones encode reward."
   ]
  },
  {
   "cell_type": "code",
   "execution_count": 34,
   "metadata": {},
   "outputs": [],
   "source": [
    "def individual_datasets(traces_=traces):\n",
    "\n",
    "    # create a list to hold the different NMs data\n",
    "    datasets = []\n",
    "\n",
    "    # loop through the traces\n",
    "    for trace in traces_:\n",
    "\n",
    "        # select the trace of the current NM\n",
    "        array = np.array([traces_[trace]])\n",
    "\n",
    "        # format the array \n",
    "        f_array = np.transpose(array)\n",
    "        f_array = f_array.astype(np.float64)\n",
    "        print(\"shape of formatted array:\", f_array.shape)\n",
    "        datasets.append(f_array)\n",
    "\n",
    "    return datasets"
   ]
  },
  {
   "cell_type": "code",
   "execution_count": 35,
   "metadata": {},
   "outputs": [
    {
     "name": "stdout",
     "output_type": "stream",
     "text": [
      "shape of formatted array: (218572, 1)\n",
      "shape of formatted array: (218572, 1)\n",
      "shape of formatted array: (218572, 1)\n",
      "shape of formatted array: (218572, 1)\n"
     ]
    }
   ],
   "source": [
    "individual_nms = individual_datasets()"
   ]
  },
  {
   "cell_type": "code",
   "execution_count": 36,
   "metadata": {},
   "outputs": [
    {
     "data": {
      "text/plain": [
       "2"
      ]
     },
     "execution_count": 36,
     "metadata": {},
     "output_type": "execute_result"
    }
   ],
   "source": [
    "4//2"
   ]
  },
  {
   "cell_type": "code",
   "execution_count": 37,
   "metadata": {},
   "outputs": [],
   "source": [
    "# first make function to make the plots given a list of embeddings\n",
    "def plot4_embeddings(embeddings, labels = trial_labels_, l_class=[rewarded, unrewarded], titles=['Dopamine (AUC:0.92)', 'Norepinephrine (AUC:0.96)', 'Serotonin (AUC:0.77)', 'Acetylcholine (AUC:0.85)']):\n",
    "\n",
    "    # number of plots\n",
    "    n_plots = len(embeddings)\n",
    "\n",
    "    n_columns = 2\n",
    "    n_rows = n_plots//n_columns\n",
    "\n",
    "    # create axis\n",
    "    fig = plt.figure(figsize=(8.5,4*n_columns))\n",
    "    gs = gridspec.GridSpec(n_rows, n_columns, figure=fig)\n",
    "\n",
    "    # colour \n",
    "    c = ['cool','plasma','pink','winter']\n",
    "\n",
    "    for i, embed in enumerate(embeddings):\n",
    "\n",
    "        # create the axes\n",
    "        ax = fig.add_subplot(gs[i // n_columns, i%n_columns], projection='3d')\n",
    "\n",
    "        ax.set_xlabel(\"latent 1\", labelpad=0.001, fontsize=13)\n",
    "        ax.set_ylabel(\"latent 2\", labelpad=0.001, fontsize=13)\n",
    "        ax.set_zlabel(\"latent 3\", labelpad=0.001, fontsize=13)\n",
    "\n",
    "        # Hide X and Y axes label marks\n",
    "        ax.xaxis.set_tick_params(labelbottom=False)\n",
    "        ax.yaxis.set_tick_params(labelleft=False)\n",
    "        ax.zaxis.set_tick_params(labelright=False)\n",
    "\n",
    "        # Hide X and Y axes tick marks\n",
    "        ax.set_xticks([])\n",
    "        ax.set_yticks([])\n",
    "        ax.set_zticks([])\n",
    "\n",
    "        # plot the embedding\n",
    "        cebra.plot_embedding(embedding=embed[l_class[0],:], embedding_labels=labels[l_class[0]], ax=ax, markersize=2,title=titles[i], cmap=c[0])\n",
    "        cebra.plot_embedding(embedding=embed[l_class[1],:], embedding_labels=labels[l_class[1]], ax=ax, markersize=2,title=titles[i], cmap=c[1])\n",
    "\n",
    "    \n",
    "    # Adjust the subplot layout manually\n",
    "    #plt.subplots_adjust(left=0.1, right=0.55, top=0.95, bottom=0.05, wspace=0.0001)\n",
    "    plt.suptitle(\"Embeddings of Single Neuromodulators\", fontsize=15)\n",
    "    plt.tight_layout()"
   ]
  },
  {
   "cell_type": "code",
   "execution_count": 38,
   "metadata": {},
   "outputs": [],
   "source": [
    "# create function to run the analysis on the individual nm data \n",
    "def nm_analysis_2(data):\n",
    "\n",
    "    # collect the behaviour embeddings in a list\n",
    "    list_embeddings = []\n",
    "\n",
    "    # run the nm analysis on the individual nms\n",
    "    for i, dataset in enumerate(data):\n",
    "\n",
    "        list_embeddings.append(nm_analysis(dataset)[1])\n",
    "\n",
    "        print(\"COMPLETED ANALYSIS OF NM {}\".format(i))\n",
    "\n",
    "    # plot them\n",
    "    plot4_embeddings(list_embeddings)\n",
    "\n",
    "    return list_embeddings\n",
    "    \n"
   ]
  },
  {
   "cell_type": "code",
   "execution_count": 39,
   "metadata": {},
   "outputs": [
    {
     "name": "stdout",
     "output_type": "stream",
     "text": [
      "neural tensor shape:  torch.Size([1717, 20])\n",
      "labels shape:  (1717,)\n"
     ]
    },
    {
     "name": "stderr",
     "output_type": "stream",
     "text": [
      "pos:  0.6321 neg:  4.5136 total:  5.1457 temperature:  1.0000: 100%|██████████| 2000/2000 [00:12<00:00, 154.49it/s]\n",
      "pos:  0.3588 neg:  5.6021 total:  5.9609 temperature:  1.0000: 100%|██████████| 2000/2000 [00:13<00:00, 146.84it/s]\n"
     ]
    },
    {
     "name": "stdout",
     "output_type": "stream",
     "text": [
      "COMPLETED ANALYSIS OF NM 0\n",
      "neural tensor shape:  torch.Size([1717, 20])\n",
      "labels shape:  (1717,)\n"
     ]
    },
    {
     "name": "stderr",
     "output_type": "stream",
     "text": [
      "pos:  0.8509 neg:  3.9938 total:  4.8447 temperature:  1.0000: 100%|██████████| 2000/2000 [00:12<00:00, 155.03it/s]\n",
      "pos:  0.3472 neg:  5.5552 total:  5.9023 temperature:  1.0000: 100%|██████████| 2000/2000 [00:13<00:00, 149.95it/s]\n"
     ]
    },
    {
     "name": "stdout",
     "output_type": "stream",
     "text": [
      "COMPLETED ANALYSIS OF NM 1\n",
      "neural tensor shape:  torch.Size([1717, 20])\n",
      "labels shape:  (1717,)\n"
     ]
    },
    {
     "name": "stderr",
     "output_type": "stream",
     "text": [
      "pos:  0.7996 neg:  4.9072 total:  5.7068 temperature:  1.0000: 100%|██████████| 2000/2000 [00:12<00:00, 156.57it/s]\n",
      "pos:  0.1663 neg:  6.0248 total:  6.1912 temperature:  1.0000: 100%|██████████| 2000/2000 [00:13<00:00, 149.28it/s]\n"
     ]
    },
    {
     "name": "stdout",
     "output_type": "stream",
     "text": [
      "COMPLETED ANALYSIS OF NM 2\n",
      "neural tensor shape:  torch.Size([1717, 20])\n",
      "labels shape:  (1717,)\n"
     ]
    },
    {
     "name": "stderr",
     "output_type": "stream",
     "text": [
      "pos:  0.6618 neg:  4.7609 total:  5.4227 temperature:  1.0000: 100%|██████████| 2000/2000 [00:12<00:00, 158.80it/s]\n",
      "pos:  0.3234 neg:  5.8362 total:  6.1596 temperature:  1.0000: 100%|██████████| 2000/2000 [00:13<00:00, 149.85it/s]\n"
     ]
    },
    {
     "name": "stdout",
     "output_type": "stream",
     "text": [
      "COMPLETED ANALYSIS OF NM 3\n"
     ]
    }
   ],
   "source": [
    "individual_embeddings = nm_analysis_2(individual_nms)"
   ]
  },
  {
   "cell_type": "code",
   "execution_count": 50,
   "metadata": {},
   "outputs": [
    {
     "data": {
      "image/png": "[encoded data removed]",
      "text/plain": [
       "<Figure size 850x800 with 4 Axes>"
      ]
     },
     "metadata": {},
     "output_type": "display_data"
    }
   ],
   "source": [
    "# remove labels\n",
    "#%matplotlib inline\n",
    "plot4_embeddings(individual_embeddings)\n"
   ]
  },
  {
   "cell_type": "markdown",
   "metadata": {},
   "source": [
    "Ok, so it looks like DA, ACh and NE all encode the presence of reward in the trial. Now let's quantify how well each of the embeddings shows presence of reward. For this we'll use the AUC score."
   ]
  },
  {
   "cell_type": "markdown",
   "metadata": {},
   "source": [
    "## Quantify presence of reward in the embeddings\n",
    "\n",
    "### Individual NMs"
   ]
  },
  {
   "cell_type": "code",
   "execution_count": 41,
   "metadata": {},
   "outputs": [],
   "source": [
    "n_iterations = 1"
   ]
  },
  {
   "cell_type": "code",
   "execution_count": 42,
   "metadata": {},
   "outputs": [
    {
     "name": "stdout",
     "output_type": "stream",
     "text": [
      "(1717, 3)\n",
      "(1717, 3)\n",
      "(1717, 3)\n",
      "(1717, 3)\n"
     ]
    }
   ],
   "source": [
    "for i, embeddding in enumerate(individual_embeddings):\n",
    "    print(embeddding.shape)"
   ]
  },
  {
   "cell_type": "code",
   "execution_count": 43,
   "metadata": {},
   "outputs": [
    {
     "data": {
      "text/plain": [
       "(1717,)"
      ]
     },
     "execution_count": 43,
     "metadata": {},
     "output_type": "execute_result"
    }
   ],
   "source": [
    "trial_labels_.shape"
   ]
  },
  {
   "cell_type": "code",
   "execution_count": 44,
   "metadata": {},
   "outputs": [],
   "source": [
    "# define function to get the auc scores\n",
    "def get_auc(set_of_embeddings):   \n",
    "\n",
    "     # list to store mean auc scores at each of these embedding dimensions\n",
    "    mean_scores = []\n",
    "    errors = []\n",
    "\n",
    "    for j, embedding in enumerate(set_of_embeddings):\n",
    "\n",
    "        # quantify with AUC score\n",
    "        scores = []\n",
    "\n",
    "        # for each NM make a couple of runs of the log regression model to get error bars\n",
    "        for i in range(n_iterations):\n",
    "\n",
    "            # make logistic function, fit it and use it to predict the initial labels from the embedding\n",
    "            logreg = LogisticRegression(random_state=42)\n",
    "            logreg.fit(embedding, trial_labels_)\n",
    "            prediction = logreg.predict(embedding)\n",
    "\n",
    "            # quantify how well the embedding mirrors the labels using the auc score\n",
    "\n",
    "            # make a precision recall curve and get the threshold\n",
    "            precision, recall, threshold = precision_recall_curve(trial_labels_, prediction)\n",
    "            threshold = np.concatenate([np.array([0]), threshold])\n",
    "\n",
    "            # calculate the fpr and tpr for all thresholds of the classification\n",
    "            fpr, tpr, threshold = roc_curve(trial_labels_, prediction)\n",
    "\n",
    "            # get the auc score and append it to the list\n",
    "            roc_auc = auc(fpr, tpr)\n",
    "            scores.append(roc_auc)\n",
    "\n",
    "        # store the mean and the standard deviation \n",
    "        mean_scores.append(np.mean(scores))\n",
    "        errors.append(np.std(scores))\n",
    "\n",
    "    return mean_scores, errors, prediction\n"
   ]
  },
  {
   "cell_type": "code",
   "execution_count": 45,
   "metadata": {},
   "outputs": [],
   "source": [
    "m_scores_snm, errors_snm, prediction = get_auc(individual_embeddings)"
   ]
  },
  {
   "cell_type": "code",
   "execution_count": 46,
   "metadata": {},
   "outputs": [
    {
     "data": {
      "text/plain": [
       "(array([0, 1]), array([1144,  573]))"
      ]
     },
     "execution_count": 46,
     "metadata": {},
     "output_type": "execute_result"
    }
   ],
   "source": [
    "np.unique(trial_labels_, return_counts=True)"
   ]
  },
  {
   "cell_type": "code",
   "execution_count": 47,
   "metadata": {},
   "outputs": [
    {
     "data": {
      "text/plain": [
       "(array([0, 1]), array([1205,  512]))"
      ]
     },
     "execution_count": 47,
     "metadata": {},
     "output_type": "execute_result"
    }
   ],
   "source": [
    "np.unique(prediction, return_counts=True)"
   ]
  },
  {
   "cell_type": "code",
   "execution_count": 51,
   "metadata": {},
   "outputs": [
    {
     "data": {
      "text/plain": [
       "array([1, 0, 0, ..., 1, 0, 0])"
      ]
     },
     "execution_count": 51,
     "metadata": {},
     "output_type": "execute_result"
    }
   ],
   "source": [
    "prediction"
   ]
  },
  {
   "cell_type": "code",
   "execution_count": 52,
   "metadata": {},
   "outputs": [
    {
     "data": {
      "text/plain": [
       "['DA NAc', 'NE NAc', '5HT NAc', 'ACh NAc']"
      ]
     },
     "execution_count": 52,
     "metadata": {},
     "output_type": "execute_result"
    }
   ],
   "source": [
    "list_nms = [trace for trace in traces.keys()]\n",
    "list_nms"
   ]
  },
  {
   "cell_type": "code",
   "execution_count": 53,
   "metadata": {},
   "outputs": [
    {
     "data": {
      "text/plain": [
       "array([0.92, 0.97, 0.76, 0.84])"
      ]
     },
     "execution_count": 53,
     "metadata": {},
     "output_type": "execute_result"
    }
   ],
   "source": [
    "np.round(m_scores_snm,2)"
   ]
  },
  {
   "cell_type": "code",
   "execution_count": 54,
   "metadata": {},
   "outputs": [
    {
     "data": {
      "text/plain": [
       "Text(0.5, 1.0, 'AUC score (logistic regression) for individual NM embeddings')"
      ]
     },
     "execution_count": 54,
     "metadata": {},
     "output_type": "execute_result"
    },
    {
     "data": {
      "image/png": "[encoded data removed]",
      "text/plain": [
       "<Figure size 640x480 with 1 Axes>"
      ]
     },
     "metadata": {},
     "output_type": "display_data"
    }
   ],
   "source": [
    "# print the auc score vs the embedding dimension\n",
    "plt.errorbar(x=np.arange(0,4),y=m_scores_snm, yerr=errors_snm, fmt='ro')\n",
    "plt.xlabel(\"Neuromodulator\")\n",
    "plt.xticks(range(len(list_nms)), list_nms, size='small')\n",
    "plt.ylabel(\"AUC Score\")\n",
    "plt.title(\"AUC score (logistic regression) for individual NM embeddings\")"
   ]
  },
  {
   "cell_type": "markdown",
   "metadata": {},
   "source": [
    "### Combinations of 3 Embeddings"
   ]
  },
  {
   "cell_type": "code",
   "execution_count": 55,
   "metadata": {},
   "outputs": [
    {
     "data": {
      "text/plain": [
       "(1717, 3)"
      ]
     },
     "execution_count": 55,
     "metadata": {},
     "output_type": "execute_result"
    }
   ],
   "source": [
    "embeddings[0].shape"
   ]
  },
  {
   "cell_type": "code",
   "execution_count": 57,
   "metadata": {},
   "outputs": [],
   "source": [
    "m_scores_3nm, errors_3nm, prediction_3nm = get_auc(embeddings)"
   ]
  },
  {
   "cell_type": "code",
   "execution_count": 58,
   "metadata": {},
   "outputs": [],
   "source": [
    "list_nnms = ['DA missing', 'NE missing', '5HT missing', 'ACh missing']"
   ]
  },
  {
   "cell_type": "code",
   "execution_count": 59,
   "metadata": {},
   "outputs": [
    {
     "data": {
      "text/plain": [
       "Text(0.5, 1.0, 'AUC score (logistic regression) for 3 NM embeddings')"
      ]
     },
     "execution_count": 59,
     "metadata": {},
     "output_type": "execute_result"
    },
    {
     "data": {
      "image/png": "[encoded data removed]",
      "text/plain": [
       "<Figure size 640x480 with 1 Axes>"
      ]
     },
     "metadata": {},
     "output_type": "display_data"
    }
   ],
   "source": [
    "# print the auc score vs the embedding dimension\n",
    "plt.errorbar(x=np.arange(0,4),y=m_scores_3nm, yerr=errors_3nm, fmt='ro')\n",
    "plt.xlabel(\"Missing Neuromodulator\")\n",
    "plt.xticks(range(len(list_nnms)), list_nnms, size='small')\n",
    "plt.ylabel(\"AUC Score\")\n",
    "plt.title(\"AUC score (logistic regression) for 3 NM embeddings\")"
   ]
  },
  {
   "cell_type": "markdown",
   "metadata": {},
   "source": [
    "Later: test how well the CEBRA models are doing i.e. plot the loss and other model parameters"
   ]
  }
 ],
 "metadata": {
  "kernelspec": {
   "display_name": "base",
   "language": "python",
   "name": "python3"
  },
  "language_info": {
   "codemirror_mode": {
    "name": "ipython",
    "version": 3
   },
   "file_extension": ".py",
   "mimetype": "text/x-python",
   "name": "python",
   "nbconvert_exporter": "python",
   "pygments_lexer": "ipython3",
   "version": "3.9.17"
  },
  "vscode": {
   "interpreter": {
    "hash": "d4d1e4263499bec80672ea0156c357c1ee493ec2b1c70f0acce89fc37c4a6abe"
   }
  }
 },
 "nbformat": 4,
 "nbformat_minor": 2
}
