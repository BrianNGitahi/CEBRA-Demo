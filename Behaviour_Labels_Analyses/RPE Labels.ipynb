{
 "cells": [
  {
   "cell_type": "markdown",
   "metadata": {},
   "source": [
    "This notebook will specifically use data from the Allen Insitute for Neural Dynamics and show how we can leverage CEBRA to analyse our in-house data. Here we will use RPE labels for construction of the embeddings."
   ]
  },
  {
   "cell_type": "code",
   "execution_count": 1,
   "metadata": {},
   "outputs": [
    {
     "name": "stderr",
     "output_type": "stream",
     "text": [
      "/opt/conda/lib/python3.9/site-packages/cebra/datasets/monkey_reaching.py:35: UserWarning: Could not import the nlb_tools package required for data loading of cebra.datasets.monkey_reaching. Dataset will not be available. If required, you can install the dataset by running pip install git+https://github.com/neurallatents/nlb_tools.\n",
      "  warnings.warn(\n"
     ]
    }
   ],
   "source": [
    "import sys\n",
    "import os # my addtion\n",
    "\n",
    "import numpy as np\n",
    "import itertools\n",
    "import matplotlib.pyplot as plt\n",
    "import matplotlib.gridspec as gridspec\n",
    "from mpl_toolkits.mplot3d import Axes3D\n",
    "from scipy.integrate import solve_ivp\n",
    "import cebra.data\n",
    "import torch\n",
    "import cebra.integrations\n",
    "import cebra.datasets\n",
    "from cebra import CEBRA\n",
    "import torch\n",
    "import pickle\n",
    "import cebra_pack.cebra_utils as cp\n",
    "import sklearn.linear_model\n",
    "\n",
    "\n",
    "from matplotlib.collections import LineCollection\n",
    "import pandas as pd"
   ]
  },
  {
   "cell_type": "markdown",
   "metadata": {},
   "source": [
    "## A. Load the Data\n",
    "\n",
    "Here we load data from the Fibre Photometry pipeline of 4 Neuromodulators (DA, 5HT, ACh, NE) recorded in the Nucleus Acumbens region. The main neural data will be in the form of dF_F traces of these 4 Neuromodulators (NMs). These will be stored in a 2D array, 'all_nms'."
   ]
  },
  {
   "cell_type": "code",
   "execution_count": 3,
   "metadata": {},
   "outputs": [],
   "source": [
    "# load the dataframe that contains data from 1 session\n",
    "df_trials_ses = pickle.load(open('../data/CO data/df.pkl', \"rb\"))"
   ]
  },
  {
   "cell_type": "code",
   "execution_count": 4,
   "metadata": {},
   "outputs": [
    {
     "data": {
      "text/plain": [
       "0     DA\n",
       "0     NE\n",
       "0    5HT\n",
       "0    ACh\n",
       "Name: NM_name, dtype: object"
      ]
     },
     "execution_count": 4,
     "metadata": {},
     "output_type": "execute_result"
    }
   ],
   "source": [
    "df_trials_ses['NM_name'][0]"
   ]
  },
  {
   "cell_type": "code",
   "execution_count": 5,
   "metadata": {},
   "outputs": [
    {
     "data": {
      "text/plain": [
       "bit_code                                             00110001111001010011\n",
       "ses_idx                                                 632106_2022-08-23\n",
       "rpe                                                                   1.0\n",
       "left_action_value                                                     0.0\n",
       "right_action_value                                               0.327773\n",
       "licks L                                                              26.0\n",
       "licks R                                                               0.0\n",
       "Lick L (raw)            [0.0, 0.0, 0.0, 0.0, 0.0, 0.0, 0.0, 0.0, 0.0, ...\n",
       "Lick R (raw)            [0.0, 0.0, 0.0, 0.0, 0.0, 0.0, 0.0, 0.0, 0.0, ...\n",
       "trial                                                                   0\n",
       "reward                                                               True\n",
       "choice                                                                  R\n",
       "go_cue_absolute_time                                            92.025002\n",
       "go_cue                                                          92.025002\n",
       "choice_time                                                     92.321007\n",
       "reward_time                                                        92.362\n",
       "onset                   [-1.0, -0.9500000000000028, -0.900000000000005...\n",
       "NM                      [-0.007254084834965805, -0.00836556607672092, ...\n",
       "NM_name                                                                NE\n",
       "region                                                                NAc\n",
       "last_value_NM                                                    0.004726\n",
       "overlap_index                                                           0\n",
       "NM_no_overlap           [-0.007254084834965805, -0.00836556607672092, ...\n",
       "bins_mids               [-0.9750000000000014, -0.9250000000000043, -0....\n",
       "bins_mids_no_overlap    [91.05000152587891, 91.1000015258789, 91.15000...\n",
       "Name: 0, dtype: object"
      ]
     },
     "execution_count": 5,
     "metadata": {},
     "output_type": "execute_result"
    }
   ],
   "source": [
    "df_trials_ses.iloc[1765]"
   ]
  },
  {
   "cell_type": "code",
   "execution_count": 6,
   "metadata": {},
   "outputs": [
    {
     "data": {
      "text/plain": [
       "Index(['bit_code', 'ses_idx', 'rpe', 'left_action_value', 'right_action_value',\n",
       "       'licks L', 'licks R', 'Lick L (raw)', 'Lick R (raw)', 'trial', 'reward',\n",
       "       'choice', 'go_cue_absolute_time', 'go_cue', 'choice_time',\n",
       "       'reward_time', 'onset', 'NM', 'NM_name', 'region', 'last_value_NM',\n",
       "       'overlap_index', 'NM_no_overlap', 'bins_mids', 'bins_mids_no_overlap'],\n",
       "      dtype='object')"
      ]
     },
     "execution_count": 6,
     "metadata": {},
     "output_type": "execute_result"
    }
   ],
   "source": [
    "df_trials_ses.columns"
   ]
  },
  {
   "cell_type": "code",
   "execution_count": 7,
   "metadata": {},
   "outputs": [
    {
     "data": {
      "text/html": [
       "<div>\n",
       "<style scoped>\n",
       "    .dataframe tbody tr th:only-of-type {\n",
       "        vertical-align: middle;\n",
       "    }\n",
       "\n",
       "    .dataframe tbody tr th {\n",
       "        vertical-align: top;\n",
       "    }\n",
       "\n",
       "    .dataframe thead th {\n",
       "        text-align: right;\n",
       "    }\n",
       "</style>\n",
       "<table border=\"1\" class=\"dataframe\">\n",
       "  <thead>\n",
       "    <tr style=\"text-align: right;\">\n",
       "      <th></th>\n",
       "      <th>rpe</th>\n",
       "    </tr>\n",
       "  </thead>\n",
       "  <tbody>\n",
       "    <tr>\n",
       "      <th>count</th>\n",
       "      <td>1717.000000</td>\n",
       "    </tr>\n",
       "    <tr>\n",
       "      <th>mean</th>\n",
       "      <td>0.056188</td>\n",
       "    </tr>\n",
       "    <tr>\n",
       "      <th>std</th>\n",
       "      <td>0.521106</td>\n",
       "    </tr>\n",
       "    <tr>\n",
       "      <th>min</th>\n",
       "      <td>-0.899843</td>\n",
       "    </tr>\n",
       "    <tr>\n",
       "      <th>25%</th>\n",
       "      <td>-0.331301</td>\n",
       "    </tr>\n",
       "    <tr>\n",
       "      <th>50%</th>\n",
       "      <td>-0.069068</td>\n",
       "    </tr>\n",
       "    <tr>\n",
       "      <th>75%</th>\n",
       "      <td>0.554228</td>\n",
       "    </tr>\n",
       "    <tr>\n",
       "      <th>max</th>\n",
       "      <td>1.000000</td>\n",
       "    </tr>\n",
       "  </tbody>\n",
       "</table>\n",
       "</div>"
      ],
      "text/plain": [
       "               rpe\n",
       "count  1717.000000\n",
       "mean      0.056188\n",
       "std       0.521106\n",
       "min      -0.899843\n",
       "25%      -0.331301\n",
       "50%      -0.069068\n",
       "75%       0.554228\n",
       "max       1.000000"
      ]
     },
     "execution_count": 7,
     "metadata": {},
     "output_type": "execute_result"
    }
   ],
   "source": [
    "df_trials_ses[['rpe']][0:1765].describe()"
   ]
  },
  {
   "cell_type": "markdown",
   "metadata": {},
   "source": [
    "NB: There's 1765 trials in this data frame (the indices are repeated over each neuromodulator)\n",
    "all information is in the first 1765 rows so we'll consider those"
   ]
  },
  {
   "cell_type": "code",
   "execution_count": 8,
   "metadata": {},
   "outputs": [],
   "source": [
    "n_trials = 1765"
   ]
  },
  {
   "cell_type": "code",
   "execution_count": 10,
   "metadata": {},
   "outputs": [],
   "source": [
    "# download the dictionary containing the traces\n",
    "traces = pickle.load(open('../data/CO data/traces.pkl', \"rb\"))"
   ]
  },
  {
   "cell_type": "code",
   "execution_count": 12,
   "metadata": {},
   "outputs": [],
   "source": [
    "# load the trace times\n",
    "trace_times = np.load('../data/CO data/Trace times.npy', allow_pickle=True)"
   ]
  },
  {
   "cell_type": "code",
   "execution_count": 13,
   "metadata": {},
   "outputs": [],
   "source": [
    "# get the choice time \n",
    "choice_times = df_trials_ses['choice_time'][0:n_trials].to_numpy()"
   ]
  },
  {
   "cell_type": "code",
   "execution_count": 14,
   "metadata": {},
   "outputs": [
    {
     "data": {
      "text/plain": [
       "(218572, 4)"
      ]
     },
     "execution_count": 14,
     "metadata": {},
     "output_type": "execute_result"
    }
   ],
   "source": [
    "# Combine the traces into one 2D array\n",
    "all_nms = np.array([traces[trace] for trace in traces.keys()])\n",
    "all_nms = np.transpose(all_nms)\n",
    "\n",
    "# change it to an array of floats (previously it was an array of object datatype)\n",
    "all_nms_new = all_nms.astype(np.float64)\n",
    "all_nms_new.shape\n"
   ]
  },
  {
   "cell_type": "code",
   "execution_count": 15,
   "metadata": {},
   "outputs": [
    {
     "data": {
      "text/plain": [
       "(218572, 4)"
      ]
     },
     "execution_count": 15,
     "metadata": {},
     "output_type": "execute_result"
    }
   ],
   "source": [
    "all_nms.shape"
   ]
  },
  {
   "cell_type": "code",
   "execution_count": 16,
   "metadata": {},
   "outputs": [
    {
     "data": {
      "text/plain": [
       "(218572, 4)"
      ]
     },
     "execution_count": 16,
     "metadata": {},
     "output_type": "execute_result"
    }
   ],
   "source": [
    "# change it to an array of floats (previously it was an array of object datatype)\n",
    "all_nms_new = all_nms.astype(np.float64)\n",
    "all_nms_new.shape"
   ]
  },
  {
   "cell_type": "code",
   "execution_count": 17,
   "metadata": {},
   "outputs": [
    {
     "data": {
      "text/plain": [
       "torch.Size([218572, 4])"
      ]
     },
     "execution_count": 17,
     "metadata": {},
     "output_type": "execute_result"
    }
   ],
   "source": [
    "# convert it to a tensor (this is probably not necessary but we want it to be as close to the inputs in the previous notebook)\n",
    "all_nms_tensor = torch.from_numpy(all_nms_new)\n",
    "all_nms_tensor.shape"
   ]
  },
  {
   "cell_type": "markdown",
   "metadata": {},
   "source": [
    "## B. Format data and create the behavioural/auxiliary variables\n",
    "\n",
    "Now let's format the data. We want to view the data in a 1 second window around the choice time at each trial in the session. The hope is that this will make it easy to identify the trials where it chose to lick left and those where it chose to lick right.\n",
    "\n",
    "Each trial will be labelled as rewarded/unrewarded and this will be the behavioural variable we use for this analysis."
   ]
  },
  {
   "cell_type": "code",
   "execution_count": 18,
   "metadata": {},
   "outputs": [
    {
     "data": {
      "text/plain": [
       "(1765,)"
      ]
     },
     "execution_count": 18,
     "metadata": {},
     "output_type": "execute_result"
    }
   ],
   "source": [
    "rpe_labels = df_trials_ses['rpe'][0:1765].to_numpy()\n",
    "rpe_labels.shape"
   ]
  },
  {
   "cell_type": "code",
   "execution_count": 19,
   "metadata": {},
   "outputs": [
    {
     "data": {
      "text/plain": [
       "(array([False,  True]), array([1717,   48]))"
      ]
     },
     "execution_count": 19,
     "metadata": {},
     "output_type": "execute_result"
    }
   ],
   "source": [
    "np.unique(np.isnan(rpe_labels),return_counts=True)"
   ]
  },
  {
   "cell_type": "code",
   "execution_count": 20,
   "metadata": {},
   "outputs": [
    {
     "data": {
      "text/plain": [
       "0.36285199999999995"
      ]
     },
     "execution_count": 20,
     "metadata": {},
     "output_type": "execute_result"
    }
   ],
   "source": [
    "df_trials_ses['rpe'].iloc[47]"
   ]
  },
  {
   "cell_type": "code",
   "execution_count": 21,
   "metadata": {},
   "outputs": [],
   "source": [
    "# Make a function to format the NM data into a 1s window around the choice\n",
    "\n",
    "def format_data(neural_data, df, trace_times_, choice_times_ , window=None , window_size=10, n_trials=1765):\n",
    "\n",
    "    # define the number of trials where the mouse made a choice\n",
    "    n_choice_trials = np.unique(np.isnan(choice_times_),return_counts=True)[1][0]\n",
    "\n",
    "    # list to hold all the 1s windows\n",
    "    n_data_window = []\n",
    "\n",
    "    # list to hold the rpe values\n",
    "    rpe_labels_ = []\n",
    "\n",
    "    reward_labels = []\n",
    "\n",
    "\n",
    "    # loop over all trials\n",
    "    for i in range(0,n_trials):\n",
    "\n",
    "        # skip trials where the animal didn't make a choice (null choice time)\n",
    "        if np.isnan(choice_times_[i]):\n",
    "            continue\n",
    "\n",
    "        # find the index of the closest time to the choice time in the trace_times array \n",
    "        idx = np.abs(trace_times_ - choice_times_[i]).argmin()\n",
    "\n",
    "        # take the previous 10 and/or the next 10 values of the NM data at these indices - 1s window\n",
    "        if window =='before':\n",
    "            n_data_window.append(neural_data[idx-10:idx])\n",
    "\n",
    "        if window == 'after':\n",
    "            n_data_window.append(neural_data[idx:idx+10])\n",
    "\n",
    "        if window == None:\n",
    "            n_data_window.append(neural_data[idx-10:idx+10])\n",
    "\n",
    "        # label the timepoints as rewarded or unrewarded\n",
    "        if df['reward'].iloc[i]:\n",
    "            # new trial label\n",
    "            reward_labels.append(1)\n",
    "\n",
    "        elif df['reward'].iloc[i]==False:\n",
    "            # new trial label\n",
    "            reward_labels.append(0)\n",
    "\n",
    "        # get the rpe values at each trial\n",
    "        rpe_labels_.append(df['rpe'].iloc[i])\n",
    "\n",
    "    # stack the nm data for each trial\n",
    "    nms_HD = np.stack(n_data_window).reshape((n_choice_trials,-1))\n",
    "    # format it into a tensor\n",
    "    nms_HD = torch.from_numpy(nms_HD.astype(np.float64))\n",
    "    print(\"neural tensor shape: \", nms_HD.shape)\n",
    "\n",
    "    # convert labels to arrays\n",
    "    rpe_labels_ = np.array(rpe_labels_)\n",
    "    print(\"rpe labels shape:\", rpe_labels_.shape)\n",
    "    reward_labels = np.array(reward_labels)\n",
    "    print(\"reward labels shape:\", reward_labels.shape)\n",
    "\n",
    "\n",
    "    return nms_HD, reward_labels, rpe_labels_"
   ]
  },
  {
   "cell_type": "code",
   "execution_count": 22,
   "metadata": {},
   "outputs": [
    {
     "name": "stdout",
     "output_type": "stream",
     "text": [
      "neural tensor shape:  torch.Size([1717, 80])\n",
      "rpe labels shape: (1717,)\n",
      "reward labels shape: (1717,)\n"
     ]
    }
   ],
   "source": [
    "formatted_nms, reward_labels, rpe_labels_ = format_data(all_nms,df=df_trials_ses,trace_times_=trace_times, choice_times_=choice_times)"
   ]
  },
  {
   "cell_type": "code",
   "execution_count": 23,
   "metadata": {},
   "outputs": [],
   "source": [
    "rewarded, unrewarded = cp.define_label_classes(reward_labels)"
   ]
  },
  {
   "cell_type": "markdown",
   "metadata": {},
   "source": [
    "Out of the 1765 trials in the session, this particular mouse made a choice in 1717 of them. The NM data is organized such that we have 20 timesteps for each of the 4 neuromodulators in this 1 second window."
   ]
  },
  {
   "cell_type": "markdown",
   "metadata": {},
   "source": [
    "## C. Build and train the CEBRA model then compute embeddings"
   ]
  },
  {
   "cell_type": "code",
   "execution_count": 24,
   "metadata": {},
   "outputs": [
    {
     "name": "stderr",
     "output_type": "stream",
     "text": [
      "  0%|          | 0/2000 [00:00<?, ?it/s]/opt/conda/lib/python3.9/site-packages/torch/nn/modules/conv.py:309: UserWarning: Applied workaround for CuDNN issue, install nvrtc.so (Triggered internally at ../aten/src/ATen/native/cudnn/Conv_v8.cpp:80.)\n",
      "  return F.conv1d(input, weight, bias, self.stride,\n",
      "pos:  0.0497 neg:  5.4326 total:  5.4823 temperature:  1.0000: 100%|██████████| 2000/2000 [00:17<00:00, 116.53it/s]\n",
      "pos:  0.4342 neg:  5.6144 total:  6.0486 temperature:  1.0000: 100%|██████████| 2000/2000 [00:14<00:00, 141.79it/s]\n"
     ]
    }
   ],
   "source": [
    "t_embed, b_embed = cp.build_train_compute(formatted_nms, rpe_labels_)"
   ]
  },
  {
   "cell_type": "markdown",
   "metadata": {},
   "source": [
    "# D. Analysis"
   ]
  },
  {
   "cell_type": "code",
   "execution_count": 25,
   "metadata": {},
   "outputs": [
    {
     "data": {
      "text/plain": [
       "[0.5, 0.933627454569863]"
      ]
     },
     "execution_count": 25,
     "metadata": {},
     "output_type": "execute_result"
    }
   ],
   "source": [
    "# get auc scores\n",
    "mean_scores, errors = cp.get_auc([t_embed, b_embed], trial_labels=reward_labels)\n",
    "mean_scores"
   ]
  },
  {
   "cell_type": "code",
   "execution_count": 26,
   "metadata": {},
   "outputs": [],
   "source": [
    "# define a function to view the embeddings\n",
    "def view(time_embedding, behaviour_embedding, labels, label_classes, size=5):\n",
    " \n",
    "    # create a figure and make the plots\n",
    "    fig = plt.figure(figsize=(17,8))\n",
    "    gs = gridspec.GridSpec(1, 2, figure=fig)\n",
    "\n",
    "\n",
    "    ax81 = fig.add_subplot(gs[0,0], projection='3d')\n",
    "    ax82 = fig.add_subplot(gs[0,1], projection='3d')\n",
    "    \n",
    "    for ax in [ax81,ax82]:\n",
    "        ax.set_xlabel(\"latent 1\", labelpad=0.001, fontsize=13)\n",
    "        ax.set_ylabel(\"latent 2\", labelpad=0.001, fontsize=13)\n",
    "        ax.set_zlabel(\"latent 3\", labelpad=0.001, fontsize=13)\n",
    "\n",
    "        # Hide X and Y axes label marks\n",
    "        ax.xaxis.set_tick_params(labelbottom=False)\n",
    "        ax.yaxis.set_tick_params(labelleft=False)\n",
    "        ax.zaxis.set_tick_params(labelright=False)\n",
    "\n",
    "        # Hide X and Y axes tick marks\n",
    "        ax.set_xticks([])\n",
    "        ax.set_yticks([])\n",
    "        ax.set_zticks([])\n",
    "\n",
    "\n",
    "    # colour maps\n",
    "    colours = ['cool', 'plasma', 'spring']\n",
    "\n",
    "    # plot the time embedding \n",
    "    cebra.plot_embedding(embedding=time_embedding[label_classes[0],:], embedding_labels=labels[label_classes[0]],ax=ax81, markersize=size, title='Time embedding', cmap=colours[0])\n",
    "    cebra.plot_embedding(embedding=time_embedding[label_classes[1],:], embedding_labels=labels[label_classes[1]],ax=ax81, markersize=size, title='Time embedding, AUC: {}'.format(np.round(mean_scores[0],2)), cmap=colours[1])\n",
    "\n",
    "\n",
    "    # plot the behaviour embedding \n",
    "    cebra.plot_embedding(embedding=behaviour_embedding[label_classes[0],:], embedding_labels=labels[label_classes[0]],ax=ax82, markersize=size, title='Behaviour embedding', cmap=colours[0],)\n",
    "    cebra.plot_embedding(embedding=behaviour_embedding[label_classes[1],:], embedding_labels=labels[label_classes[1]],ax=ax82,markersize=size, title='Behaviour embedding, AUC: {}'.format(np.round(mean_scores[1],2)),  cmap=colours[1])\n",
    "\n",
    "    gs.tight_layout(figure=fig)"
   ]
  },
  {
   "cell_type": "code",
   "execution_count": 27,
   "metadata": {},
   "outputs": [],
   "source": [
    "view(t_embed, b_embed, reward_labels, [rewarded,unrewarded])"
   ]
  },
  {
   "cell_type": "markdown",
   "metadata": {},
   "source": [
    "From this pair of embeddings we can see that there is a clustering of the left (light blue) and right (purple) trials when we use CEBRA behaviour. \n",
    "This confirms to us that the rpe and the presence/absence of reward in the trial are related, because we can distinguish two clusters (rewarded/unrewarded) in the embedding produced when we use the rpe as the behaviour labels"
   ]
  },
  {
   "cell_type": "markdown",
   "metadata": {},
   "source": [
    "Now let's colour the embeddings with the continuous rpe values to see whether we can still distinguish the trials based on this. (future idea: tracking linear separability in CEBRA embeddings)"
   ]
  },
  {
   "cell_type": "code",
   "execution_count": 28,
   "metadata": {},
   "outputs": [],
   "source": [
    "# now colour the embeddings with the continuous rpe values\n",
    "# create a figure and make the plots\n",
    "fig = plt.figure(figsize=(16,8))\n",
    "gs = gridspec.GridSpec(1, 2, figure=fig)\n",
    "\n",
    "\n",
    "ax81 = fig.add_subplot(gs[0,0], projection='3d')\n",
    "ax82 = fig.add_subplot(gs[0,1], projection='3d')\n",
    "\n",
    "for ax in [ax81,ax82]:\n",
    "    ax.set_xlabel(\"latent 1\", labelpad=0.001, fontsize=13)\n",
    "    ax.set_ylabel(\"latent 2\", labelpad=0.001, fontsize=13)\n",
    "    ax.set_zlabel(\"latent 3\", labelpad=0.001, fontsize=13)\n",
    "\n",
    "    # Hide X and Y axes label marks\n",
    "    ax.xaxis.set_tick_params(labelbottom=False)\n",
    "    ax.yaxis.set_tick_params(labelleft=False)\n",
    "    ax.zaxis.set_tick_params(labelright=False)\n",
    "\n",
    "    # Hide X and Y axes tick marks\n",
    "    ax.set_xticks([])\n",
    "    ax.set_yticks([])\n",
    "    ax.set_zticks([])\n",
    "\n",
    "# colour maps\n",
    "colours = ['cool', 'plasma', 'spring']\n",
    "\n",
    "# plot the time embedding \n",
    "cebra.plot_embedding(embedding=t_embed, embedding_labels=rpe_labels_,ax=ax81, markersize=5, title='Time embedding, R2', cmap=colours[1])\n",
    "\n",
    "# plot the behaviour embedding \n",
    "cebra.plot_embedding(embedding=b_embed, embedding_labels=rpe_labels_,ax=ax82,markersize=5, title='Behaviour embedding, R2',  cmap=colours[1])\n",
    "\n",
    "gs.tight_layout(figure=fig)"
   ]
  },
  {
   "cell_type": "code",
   "execution_count": 29,
   "metadata": {},
   "outputs": [
    {
     "data": {
      "text/html": [
       "<div>\n",
       "<style scoped>\n",
       "    .dataframe tbody tr th:only-of-type {\n",
       "        vertical-align: middle;\n",
       "    }\n",
       "\n",
       "    .dataframe tbody tr th {\n",
       "        vertical-align: top;\n",
       "    }\n",
       "\n",
       "    .dataframe thead th {\n",
       "        text-align: right;\n",
       "    }\n",
       "</style>\n",
       "<table border=\"1\" class=\"dataframe\">\n",
       "  <thead>\n",
       "    <tr style=\"text-align: right;\">\n",
       "      <th></th>\n",
       "      <th>rpe</th>\n",
       "    </tr>\n",
       "  </thead>\n",
       "  <tbody>\n",
       "    <tr>\n",
       "      <th>count</th>\n",
       "      <td>1717.000000</td>\n",
       "    </tr>\n",
       "    <tr>\n",
       "      <th>mean</th>\n",
       "      <td>0.056188</td>\n",
       "    </tr>\n",
       "    <tr>\n",
       "      <th>std</th>\n",
       "      <td>0.521106</td>\n",
       "    </tr>\n",
       "    <tr>\n",
       "      <th>min</th>\n",
       "      <td>-0.899843</td>\n",
       "    </tr>\n",
       "    <tr>\n",
       "      <th>25%</th>\n",
       "      <td>-0.331301</td>\n",
       "    </tr>\n",
       "    <tr>\n",
       "      <th>50%</th>\n",
       "      <td>-0.069068</td>\n",
       "    </tr>\n",
       "    <tr>\n",
       "      <th>75%</th>\n",
       "      <td>0.554228</td>\n",
       "    </tr>\n",
       "    <tr>\n",
       "      <th>max</th>\n",
       "      <td>1.000000</td>\n",
       "    </tr>\n",
       "  </tbody>\n",
       "</table>\n",
       "</div>"
      ],
      "text/plain": [
       "               rpe\n",
       "count  1717.000000\n",
       "mean      0.056188\n",
       "std       0.521106\n",
       "min      -0.899843\n",
       "25%      -0.331301\n",
       "50%      -0.069068\n",
       "75%       0.554228\n",
       "max       1.000000"
      ]
     },
     "execution_count": 29,
     "metadata": {},
     "output_type": "execute_result"
    }
   ],
   "source": [
    "df_trials_ses[['rpe']][0:1765].describe()"
   ]
  },
  {
   "cell_type": "code",
   "execution_count": 30,
   "metadata": {},
   "outputs": [
    {
     "data": {
      "text/plain": [
       "array([[-2.16943903,  1.65420814,  1.38074774,  0.86477999,  1.0223096 ,\n",
       "        -0.15169909,  0.60802431, -0.66131174, -1.04429746, -0.89620258]])"
      ]
     },
     "execution_count": 30,
     "metadata": {},
     "output_type": "execute_result"
    }
   ],
   "source": [
    "np.random.randn(1,10)"
   ]
  },
  {
   "cell_type": "code",
   "execution_count": 31,
   "metadata": {},
   "outputs": [
    {
     "data": {
      "text/plain": [
       "array([[0.95840754, 0.90010137, 0.9669571 , ..., 0.97122075, 0.90196141,\n",
       "        0.56756094],\n",
       "       [0.29885494, 0.60810479, 0.43126378, ..., 0.31024835, 0.20974492,\n",
       "        0.80158038],\n",
       "       [0.43049693, 0.64098662, 0.70287545, ..., 0.67537152, 0.92499695,\n",
       "        0.35091729],\n",
       "       ...,\n",
       "       [0.00590675, 0.93365732, 0.05232503, ..., 0.55805701, 0.44868055,\n",
       "        0.52744283],\n",
       "       [0.05225732, 0.01176139, 0.5555709 , ..., 0.85781806, 0.79598169,\n",
       "        0.95311636],\n",
       "       [0.05101777, 0.14768752, 0.50303826, ..., 0.6667293 , 0.9954188 ,\n",
       "        0.59547989]])"
      ]
     },
     "execution_count": 31,
     "metadata": {},
     "output_type": "execute_result"
    }
   ],
   "source": [
    "np.random.rand(100, 100)"
   ]
  },
  {
   "cell_type": "code",
   "execution_count": 32,
   "metadata": {},
   "outputs": [
    {
     "data": {
      "text/plain": [
       "array([[ 0.0869728 ,  0.81107422, -0.16200315, ..., -0.46764484,\n",
       "         0.01621021, -0.42106372],\n",
       "       [ 0.40714865, -0.05346994, -0.08422208, ...,  0.75960956,\n",
       "        -0.75026647, -0.84633075],\n",
       "       [-0.13609972,  0.51017034, -0.16224392, ..., -0.38146795,\n",
       "         0.29639047,  1.88113539],\n",
       "       ...,\n",
       "       [ 0.73398023, -1.6415002 , -0.31670699, ...,  2.41683225,\n",
       "         1.13433898, -0.91687991],\n",
       "       [ 1.56797717, -0.41100773,  0.95314981, ...,  0.60635757,\n",
       "         0.24697095, -1.87522668],\n",
       "       [ 0.68650684, -1.26766877, -0.3832068 , ..., -0.41026188,\n",
       "        -0.81724982, -0.37627754]])"
      ]
     },
     "execution_count": 32,
     "metadata": {},
     "output_type": "execute_result"
    }
   ],
   "source": [
    "np.random.randn(1000, 1000)\n"
   ]
  },
  {
   "cell_type": "code",
   "execution_count": 33,
   "metadata": {},
   "outputs": [],
   "source": [
    "data = np.random.randn(1000, 1000)\n",
    "fig, ax = plt.subplots()\n",
    "cax = ax.imshow(data, cmap='plasma')\n",
    "cbar = fig.colorbar(cax, ax=ax, label='RPE')\n",
    "\n"
   ]
  },
  {
   "cell_type": "code",
   "execution_count": 34,
   "metadata": {},
   "outputs": [],
   "source": [
    "\n",
    "# Sample data for the plot\n",
    "# Sample data for the plot\n",
    "x = np.linspace(-1, 1, 100)\n",
    "y = np.sin(x * 2 * np.pi)\n",
    "colors = y\n",
    "\n",
    "# Create the plot\n",
    "fig, ax = plt.subplots()  # Create a figure and an axes\n",
    "scatter = ax.scatter(x, y, c=colors, cmap='plasma', vmin=-1, vmax=1)\n",
    "ax.set_title('Sample Plot with Colorbar')\n",
    "\n",
    "# Create a colorbar\n",
    "cbar = plt.colorbar(scatter, ax=ax)  # Associate colorbar with the axes\n",
    "cbar.set_label('RPE')\n",
    "\n",
    "# Show the plot\n",
    "plt.show()"
   ]
  },
  {
   "cell_type": "markdown",
   "metadata": {},
   "source": [
    "## Individual NMs\n",
    "\n",
    "Now let's see how well the individual NMs capture the presence/absence of reward."
   ]
  },
  {
   "cell_type": "code",
   "execution_count": 35,
   "metadata": {},
   "outputs": [
    {
     "name": "stdout",
     "output_type": "stream",
     "text": [
      "shape of formatted array: (218572, 1)\n",
      "shape of formatted array: (218572, 1)\n",
      "shape of formatted array: (218572, 1)\n",
      "shape of formatted array: (218572, 1)\n"
     ]
    }
   ],
   "source": [
    "individual_nms = cp.individual_datasets(traces_=traces)"
   ]
  },
  {
   "cell_type": "code",
   "execution_count": 36,
   "metadata": {},
   "outputs": [
    {
     "name": "stdout",
     "output_type": "stream",
     "text": [
      "neural tensor shape:  torch.Size([1717, 20])\n",
      "reward labels shape:  (1717,)\n",
      "choice labels shape:  (1717,)\n",
      "rpe labels shape: (1717,)\n"
     ]
    },
    {
     "name": "stderr",
     "output_type": "stream",
     "text": [
      "pos:  0.2162 neg:  5.5905 total:  5.8067 temperature:  1.0000: 100%|██████████| 2000/2000 [00:15<00:00, 125.58it/s]\n",
      "pos:  0.4368 neg:  5.7132 total:  6.1501 temperature:  1.0000: 100%|██████████| 2000/2000 [00:15<00:00, 127.10it/s]\n"
     ]
    },
    {
     "name": "stdout",
     "output_type": "stream",
     "text": [
      "COMPLETED ANALYSIS OF NM 0: \n",
      "neural tensor shape:  torch.Size([1717, 20])\n",
      "reward labels shape:  (1717,)\n",
      "choice labels shape:  (1717,)\n",
      "rpe labels shape: (1717,)\n"
     ]
    },
    {
     "name": "stderr",
     "output_type": "stream",
     "text": [
      "pos:  0.1269 neg:  5.5044 total:  5.6313 temperature:  1.0000: 100%|██████████| 2000/2000 [00:13<00:00, 143.63it/s]\n",
      "pos:  0.4933 neg:  5.6379 total:  6.1312 temperature:  1.0000: 100%|██████████| 2000/2000 [00:13<00:00, 147.41it/s]\n"
     ]
    },
    {
     "name": "stdout",
     "output_type": "stream",
     "text": [
      "COMPLETED ANALYSIS OF NM 1: \n",
      "neural tensor shape:  torch.Size([1717, 20])\n",
      "reward labels shape:  (1717,)\n",
      "choice labels shape:  (1717,)\n",
      "rpe labels shape: (1717,)\n"
     ]
    },
    {
     "name": "stderr",
     "output_type": "stream",
     "text": [
      "pos:  0.3523 neg:  5.4587 total:  5.8110 temperature:  1.0000: 100%|██████████| 2000/2000 [00:12<00:00, 163.59it/s]\n",
      "pos:  0.3645 neg:  5.7979 total:  6.1624 temperature:  1.0000: 100%|██████████| 2000/2000 [00:12<00:00, 157.22it/s]\n"
     ]
    },
    {
     "name": "stdout",
     "output_type": "stream",
     "text": [
      "COMPLETED ANALYSIS OF NM 2: \n",
      "neural tensor shape:  torch.Size([1717, 20])\n",
      "reward labels shape:  (1717,)\n",
      "choice labels shape:  (1717,)\n",
      "rpe labels shape: (1717,)\n"
     ]
    },
    {
     "name": "stderr",
     "output_type": "stream",
     "text": [
      "pos:  0.1632 neg:  5.4772 total:  5.6404 temperature:  1.0000: 100%|██████████| 2000/2000 [00:12<00:00, 154.34it/s]\n",
      "pos:  0.0020 neg:  6.2362 total:  6.2382 temperature:  1.0000: 100%|██████████| 2000/2000 [00:13<00:00, 151.45it/s]\n"
     ]
    },
    {
     "name": "stdout",
     "output_type": "stream",
     "text": [
      "COMPLETED ANALYSIS OF NM 3: \n"
     ]
    }
   ],
   "source": [
    "b_embeds, t_embeds, t_labels, [positive, negative] = cp.nm_analysis_2(individual_nms, df_trials_ses, trace_times, choice_times,title=\" \",label='rpe')"
   ]
  },
  {
   "cell_type": "code",
   "execution_count": 37,
   "metadata": {},
   "outputs": [
    {
     "data": {
      "text/plain": [
       "4"
      ]
     },
     "execution_count": 37,
     "metadata": {},
     "output_type": "execute_result"
    }
   ],
   "source": [
    "len(b_embeds)"
   ]
  },
  {
   "cell_type": "code",
   "execution_count": 38,
   "metadata": {},
   "outputs": [
    {
     "data": {
      "text/plain": [
       "array([0, 1])"
      ]
     },
     "execution_count": 38,
     "metadata": {},
     "output_type": "execute_result"
    }
   ],
   "source": [
    "np.unique(reward_labels)"
   ]
  },
  {
   "cell_type": "code",
   "execution_count": 39,
   "metadata": {},
   "outputs": [
    {
     "data": {
      "text/plain": [
       "(1717,)"
      ]
     },
     "execution_count": 39,
     "metadata": {},
     "output_type": "execute_result"
    }
   ],
   "source": [
    "reward_labels.shape"
   ]
  },
  {
   "cell_type": "code",
   "execution_count": 40,
   "metadata": {},
   "outputs": [],
   "source": [
    "means, sds = cp.get_auc(b_embeds, reward_labels)"
   ]
  },
  {
   "cell_type": "code",
   "execution_count": 41,
   "metadata": {},
   "outputs": [
    {
     "data": {
      "text/plain": [
       "[0.8777444196292364, 0.9375671231037722, 0.7293581200649263, 0.5]"
      ]
     },
     "execution_count": 41,
     "metadata": {},
     "output_type": "execute_result"
    }
   ],
   "source": [
    "means"
   ]
  },
  {
   "cell_type": "code",
   "execution_count": 42,
   "metadata": {},
   "outputs": [
    {
     "data": {
      "text/plain": [
       "4"
      ]
     },
     "execution_count": 42,
     "metadata": {},
     "output_type": "execute_result"
    }
   ],
   "source": [
    "len(b_embeds)"
   ]
  },
  {
   "cell_type": "code",
   "execution_count": 43,
   "metadata": {},
   "outputs": [],
   "source": [
    "# first make function to make the plots given a list of embeddings\n",
    "def plot4_embeddings(embeddings, labels , l_class, means=None, titles=['DA only', 'NE only', '5HT only', 'ACh only'], t=\"\"):\n",
    "\n",
    "    # number of plots\n",
    "    n_plots = len(embeddings)\n",
    "\n",
    "    n_columns = 2\n",
    "    n_rows = n_plots//n_columns\n",
    "\n",
    "    # create axis\n",
    "    fig = plt.figure(figsize=(8,4*2))\n",
    "    gs = gridspec.GridSpec(2, 2, figure=fig)\n",
    "\n",
    "    # colour \n",
    "    c = ['cool','plasma','pink','winter']\n",
    "\n",
    "    for i, embed in enumerate(embeddings):\n",
    "\n",
    "        # create the axes\n",
    "        ax = fig.add_subplot(gs[i // n_columns, i%n_columns], projection='3d')\n",
    "\n",
    "        ax.set_xlabel(\"latent 1\", labelpad=0.001, fontsize=13)\n",
    "        ax.set_ylabel(\"latent 2\", labelpad=0.001, fontsize=13)\n",
    "        ax.set_zlabel(\"latent 3\", labelpad=0.001, fontsize=13)\n",
    "\n",
    "        # Hide X and Y axes label marks\n",
    "        ax.xaxis.set_tick_params(labelbottom=False)\n",
    "        ax.yaxis.set_tick_params(labelleft=False)\n",
    "        ax.zaxis.set_tick_params(labelright=False)\n",
    "\n",
    "        # Hide X and Y axes tick marks\n",
    "        ax.set_xticks([])\n",
    "        ax.set_yticks([])\n",
    "        ax.set_zticks([])\n",
    "\n",
    "\n",
    "        if means.any():\n",
    "            titles=['DA only, AUC:{}'.format(means[0]),'NE only, AUC:{}'.format(means[1]), '5HT only, AUC:{}'.format(means[2]), 'ACh only, AUC:{}'.format(means[3])]\n",
    "\n",
    "\n",
    "        # plot the embedding\n",
    "        cebra.plot_embedding(embedding=embed[l_class[0],:], embedding_labels=labels[l_class[0]], ax=ax, markersize=2,title=titles[i], cmap=c[0])\n",
    "        cebra.plot_embedding(embedding=embed[l_class[1],:], embedding_labels=labels[l_class[1]], ax=ax, markersize=2,title=titles[i], cmap=c[1])\n",
    "\n",
    "    plt.suptitle(t, fontsize=15)\n",
    "    plt.tight_layout()"
   ]
  },
  {
   "cell_type": "code",
   "execution_count": 44,
   "metadata": {},
   "outputs": [
    {
     "data": {
      "text/plain": [
       "array([0.88, 0.94, 0.73, 0.5 ])"
      ]
     },
     "execution_count": 44,
     "metadata": {},
     "output_type": "execute_result"
    }
   ],
   "source": [
    "np.round(means,2)"
   ]
  },
  {
   "cell_type": "code",
   "execution_count": 45,
   "metadata": {},
   "outputs": [],
   "source": [
    "plot4_embeddings(b_embeds, reward_labels, [positive, negative], means=np.round(means,2),t=\"Embeddings with RPE labels (plotted with Reward Labels)\")"
   ]
  },
  {
   "cell_type": "markdown",
   "metadata": {},
   "source": [
    "# Dimensionality Analysis\n",
    "\n",
    "The embeddings look 2+ dimensional but we expected something on 1d since RPE is just a 1d value...so let's try and detemrine which is the best embedding dimensionality quantitatively."
   ]
  },
  {
   "cell_type": "code",
   "execution_count": 46,
   "metadata": {},
   "outputs": [
    {
     "name": "stderr",
     "output_type": "stream",
     "text": [
      "pos:  0.0000 neg:  6.2383 total:  6.2383 temperature:  1.0000: 100%|██████████| 2000/2000 [00:12<00:00, 163.21it/s]\n",
      "pos:  0.0000 neg:  6.2383 total:  6.2383 temperature:  1.0000: 100%|██████████| 2000/2000 [00:13<00:00, 150.77it/s]\n"
     ]
    },
    {
     "name": "stdout",
     "output_type": "stream",
     "text": [
      "Finished dimension 1\n"
     ]
    },
    {
     "name": "stderr",
     "output_type": "stream",
     "text": [
      "pos:  0.0257 neg:  5.4767 total:  5.5024 temperature:  1.0000: 100%|██████████| 2000/2000 [00:14<00:00, 139.32it/s]\n",
      "pos:  0.3222 neg:  5.7963 total:  6.1185 temperature:  1.0000: 100%|██████████| 2000/2000 [00:13<00:00, 146.49it/s]\n"
     ]
    },
    {
     "name": "stdout",
     "output_type": "stream",
     "text": [
      "Finished dimension 2\n"
     ]
    },
    {
     "name": "stderr",
     "output_type": "stream",
     "text": [
      "pos:  0.0490 neg:  5.4362 total:  5.4852 temperature:  1.0000: 100%|██████████| 2000/2000 [00:12<00:00, 159.58it/s]\n",
      "pos:  0.4910 neg:  5.6421 total:  6.1331 temperature:  1.0000: 100%|██████████| 2000/2000 [00:13<00:00, 150.10it/s]\n"
     ]
    },
    {
     "name": "stdout",
     "output_type": "stream",
     "text": [
      "Finished dimension 3\n"
     ]
    }
   ],
   "source": [
    "# at diff dimensions\n",
    "dimensions = [1,2,3]\n",
    "auc_means = []\n",
    "auc_errors = []\n",
    "n_iterations = 1\n",
    "\n",
    "\n",
    "for dimension in dimensions:\n",
    "\n",
    "    aucs = []\n",
    "\n",
    "    for i in range(n_iterations):\n",
    "\n",
    "        # build, train and compute embeddings\n",
    "        time_embed, behaviour_embed = cp.build_train_compute(formatted_nms,rpe_labels_, d=dimension)\n",
    "\n",
    "        # get auc\n",
    "        auc_score, errors = cp.get_auc([time_embed, behaviour_embed], trial_labels=reward_labels)\n",
    "\n",
    "        # store the value\n",
    "        aucs.append(auc_score)\n",
    "\n",
    "    # get the mean and sd for the aucs at that dimension\n",
    "    auc_means.append(np.mean(aucs))\n",
    "    auc_errors.append(np.std(aucs))\n",
    "\n",
    "    print(\"Finished dimension {}\".format(dimension))"
   ]
  },
  {
   "cell_type": "code",
   "execution_count": 47,
   "metadata": {},
   "outputs": [
    {
     "data": {
      "text/plain": [
       "3"
      ]
     },
     "execution_count": 47,
     "metadata": {},
     "output_type": "execute_result"
    }
   ],
   "source": [
    "len(dimensions)"
   ]
  },
  {
   "cell_type": "code",
   "execution_count": 50,
   "metadata": {},
   "outputs": [
    {
     "ename": "TypeError",
     "evalue": "errorbar() missing 1 required positional argument: 'z'",
     "output_type": "error",
     "traceback": [
      "\u001b[0;31m---------------------------------------------------------------------------\u001b[0m",
      "\u001b[0;31mTypeError\u001b[0m                                 Traceback (most recent call last)",
      "Cell \u001b[0;32mIn[50], line 2\u001b[0m\n\u001b[1;32m      1\u001b[0m \u001b[39m# plot the auc at each dimensionality\u001b[39;00m\n\u001b[0;32m----> 2\u001b[0m plt\u001b[39m.\u001b[39;49merrorbar(x\u001b[39m=\u001b[39;49mdimensions, y\u001b[39m=\u001b[39;49mauc_means, yerr\u001b[39m=\u001b[39;49mauc_errors, fmt\u001b[39m=\u001b[39;49m\u001b[39m'\u001b[39;49m\u001b[39mro\u001b[39;49m\u001b[39m'\u001b[39;49m)\n\u001b[1;32m      3\u001b[0m plt\u001b[39m.\u001b[39mxlabel(\u001b[39m\"\u001b[39m\u001b[39mCEBRA Embedding dimension \u001b[39m\u001b[39m\"\u001b[39m)\n\u001b[1;32m      4\u001b[0m plt\u001b[39m.\u001b[39mylabel(\u001b[39m\"\u001b[39m\u001b[39mAUC score\u001b[39m\u001b[39m\"\u001b[39m)\n",
      "File \u001b[0;32m/opt/conda/lib/python3.9/site-packages/matplotlib/pyplot.py:3027\u001b[0m, in \u001b[0;36merrorbar\u001b[0;34m(x, y, yerr, xerr, fmt, ecolor, elinewidth, capsize, barsabove, lolims, uplims, xlolims, xuplims, errorevery, capthick, data, **kwargs)\u001b[0m\n\u001b[1;32m   3009\u001b[0m     \u001b[39mreturn\u001b[39;00m gca()\u001b[39m.\u001b[39mecdf(\n\u001b[1;32m   3010\u001b[0m         x,\n\u001b[1;32m   3011\u001b[0m         weights\u001b[39m=\u001b[39mweights,\n\u001b[0;32m   (...)\u001b[0m\n\u001b[1;32m   3016\u001b[0m         \u001b[39m*\u001b[39m\u001b[39m*\u001b[39mkwargs,\n\u001b[1;32m   3017\u001b[0m     )\n\u001b[1;32m   3020\u001b[0m \u001b[39m# Autogenerated by boilerplate.py.  Do not edit as changes will be lost.\u001b[39;00m\n\u001b[1;32m   3021\u001b[0m \u001b[39m@_copy_docstring_and_deprecators\u001b[39m(Axes\u001b[39m.\u001b[39merrorbar)\n\u001b[1;32m   3022\u001b[0m \u001b[39mdef\u001b[39;00m \u001b[39merrorbar\u001b[39m(\n\u001b[1;32m   3023\u001b[0m     x: \u001b[39mfloat\u001b[39m \u001b[39m|\u001b[39m ArrayLike,\n\u001b[1;32m   3024\u001b[0m     y: \u001b[39mfloat\u001b[39m \u001b[39m|\u001b[39m ArrayLike,\n\u001b[1;32m   3025\u001b[0m     yerr: \u001b[39mfloat\u001b[39m \u001b[39m|\u001b[39m ArrayLike \u001b[39m|\u001b[39m \u001b[39mNone\u001b[39;00m \u001b[39m=\u001b[39m \u001b[39mNone\u001b[39;00m,\n\u001b[1;32m   3026\u001b[0m     xerr: \u001b[39mfloat\u001b[39m \u001b[39m|\u001b[39m ArrayLike \u001b[39m|\u001b[39m \u001b[39mNone\u001b[39;00m \u001b[39m=\u001b[39m \u001b[39mNone\u001b[39;00m,\n\u001b[0;32m-> 3027\u001b[0m     fmt: \u001b[39mstr\u001b[39m \u001b[39m=\u001b[39m \u001b[39m\"\u001b[39m\u001b[39m\"\u001b[39m,\n\u001b[1;32m   3028\u001b[0m     ecolor: ColorType \u001b[39m|\u001b[39m \u001b[39mNone\u001b[39;00m \u001b[39m=\u001b[39m \u001b[39mNone\u001b[39;00m,\n\u001b[1;32m   3029\u001b[0m     elinewidth: \u001b[39mfloat\u001b[39m \u001b[39m|\u001b[39m \u001b[39mNone\u001b[39;00m \u001b[39m=\u001b[39m \u001b[39mNone\u001b[39;00m,\n\u001b[1;32m   3030\u001b[0m     capsize: \u001b[39mfloat\u001b[39m \u001b[39m|\u001b[39m \u001b[39mNone\u001b[39;00m \u001b[39m=\u001b[39m \u001b[39mNone\u001b[39;00m,\n\u001b[1;32m   3031\u001b[0m     barsabove: \u001b[39mbool\u001b[39m \u001b[39m=\u001b[39m \u001b[39mFalse\u001b[39;00m,\n\u001b[1;32m   3032\u001b[0m     lolims: \u001b[39mbool\u001b[39m \u001b[39m|\u001b[39m ArrayLike \u001b[39m=\u001b[39m \u001b[39mFalse\u001b[39;00m,\n\u001b[1;32m   3033\u001b[0m     uplims: \u001b[39mbool\u001b[39m \u001b[39m|\u001b[39m ArrayLike \u001b[39m=\u001b[39m \u001b[39mFalse\u001b[39;00m,\n\u001b[1;32m   3034\u001b[0m     xlolims: \u001b[39mbool\u001b[39m \u001b[39m|\u001b[39m ArrayLike \u001b[39m=\u001b[39m \u001b[39mFalse\u001b[39;00m,\n\u001b[1;32m   3035\u001b[0m     xuplims: \u001b[39mbool\u001b[39m \u001b[39m|\u001b[39m ArrayLike \u001b[39m=\u001b[39m \u001b[39mFalse\u001b[39;00m,\n\u001b[1;32m   3036\u001b[0m     errorevery: \u001b[39mint\u001b[39m \u001b[39m|\u001b[39m \u001b[39mtuple\u001b[39m[\u001b[39mint\u001b[39m, \u001b[39mint\u001b[39m] \u001b[39m=\u001b[39m \u001b[39m1\u001b[39m,\n\u001b[1;32m   3037\u001b[0m     capthick: \u001b[39mfloat\u001b[39m \u001b[39m|\u001b[39m \u001b[39mNone\u001b[39;00m \u001b[39m=\u001b[39m \u001b[39mNone\u001b[39;00m,\n\u001b[1;32m   3038\u001b[0m     \u001b[39m*\u001b[39m,\n\u001b[1;32m   3039\u001b[0m     data\u001b[39m=\u001b[39m\u001b[39mNone\u001b[39;00m,\n\u001b[1;32m   3040\u001b[0m     \u001b[39m*\u001b[39m\u001b[39m*\u001b[39mkwargs,\n\u001b[1;32m   3041\u001b[0m ) \u001b[39m-\u001b[39m\u001b[39m>\u001b[39m ErrorbarContainer:\n\u001b[1;32m   3042\u001b[0m     \u001b[39mreturn\u001b[39;00m gca()\u001b[39m.\u001b[39merrorbar(\n\u001b[1;32m   3043\u001b[0m         x,\n\u001b[1;32m   3044\u001b[0m         y,\n\u001b[0;32m   (...)\u001b[0m\n\u001b[1;32m   3059\u001b[0m         \u001b[39m*\u001b[39m\u001b[39m*\u001b[39mkwargs,\n\u001b[1;32m   3060\u001b[0m     )\n\u001b[1;32m   3063\u001b[0m \u001b[39m# Autogenerated by boilerplate.py.  Do not edit as changes will be lost.\u001b[39;00m\n",
      "File \u001b[0;32m/opt/conda/lib/python3.9/site-packages/matplotlib/__init__.py:1465\u001b[0m, in \u001b[0;36m_preprocess_data.<locals>.inner\u001b[0;34m(ax, data, *args, **kwargs)\u001b[0m\n\u001b[1;32m   1462\u001b[0m \u001b[39m@functools\u001b[39m\u001b[39m.\u001b[39mwraps(func)\n\u001b[1;32m   1463\u001b[0m \u001b[39mdef\u001b[39;00m \u001b[39minner\u001b[39m(ax, \u001b[39m*\u001b[39margs, data\u001b[39m=\u001b[39m\u001b[39mNone\u001b[39;00m, \u001b[39m*\u001b[39m\u001b[39m*\u001b[39mkwargs):\n\u001b[1;32m   1464\u001b[0m     \u001b[39mif\u001b[39;00m data \u001b[39mis\u001b[39;00m \u001b[39mNone\u001b[39;00m:\n\u001b[0;32m-> 1465\u001b[0m         \u001b[39mreturn\u001b[39;00m func(ax, \u001b[39m*\u001b[39;49m\u001b[39mmap\u001b[39;49m(sanitize_sequence, args), \u001b[39m*\u001b[39;49m\u001b[39m*\u001b[39;49mkwargs)\n\u001b[1;32m   1467\u001b[0m     bound \u001b[39m=\u001b[39m new_sig\u001b[39m.\u001b[39mbind(ax, \u001b[39m*\u001b[39margs, \u001b[39m*\u001b[39m\u001b[39m*\u001b[39mkwargs)\n\u001b[1;32m   1468\u001b[0m     auto_label \u001b[39m=\u001b[39m (bound\u001b[39m.\u001b[39marguments\u001b[39m.\u001b[39mget(label_namer)\n\u001b[1;32m   1469\u001b[0m                   \u001b[39mor\u001b[39;00m bound\u001b[39m.\u001b[39mkwargs\u001b[39m.\u001b[39mget(label_namer))\n",
      "\u001b[0;31mTypeError\u001b[0m: errorbar() missing 1 required positional argument: 'z'"
     ]
    }
   ],
   "source": [
    "# plot the auc at each dimensionality\n",
    "plt.errorbar(x=dimensions, y=auc_means, yerr=auc_errors, fmt='ro')\n",
    "plt.xlabel(\"CEBRA Embedding dimension \")\n",
    "plt.ylabel(\"AUC score\")\n",
    "plt.title(\"Effect of Embedding dimension on quality of embeddings made using RPEs \")"
   ]
  },
  {
   "cell_type": "code",
   "execution_count": null,
   "metadata": {},
   "outputs": [],
   "source": [
    "# get r2 score (x==embedding, y=target/label)\n",
    "def reconstruction_score(x, y):\n",
    "\n",
    "    def _linear_fitting(x, y):\n",
    "        lin_model = sklearn.linear_model.LinearRegression()\n",
    "        lin_model.fit(x, y)\n",
    "        return lin_model.score(x, y), lin_model.predict(x)\n",
    "\n",
    "    return _linear_fitting(x, y)"
   ]
  },
  {
   "cell_type": "code",
   "execution_count": null,
   "metadata": {},
   "outputs": [
    {
     "data": {
      "text/plain": [
       "(1717,)"
      ]
     },
     "execution_count": 48,
     "metadata": {},
     "output_type": "execute_result"
    }
   ],
   "source": [
    "rpe_labels_.shape"
   ]
  },
  {
   "cell_type": "code",
   "execution_count": null,
   "metadata": {},
   "outputs": [
    {
     "data": {
      "text/plain": [
       "(1717, 3)"
      ]
     },
     "execution_count": 49,
     "metadata": {},
     "output_type": "execute_result"
    }
   ],
   "source": [
    "b_embed.shape"
   ]
  },
  {
   "cell_type": "code",
   "execution_count": null,
   "metadata": {},
   "outputs": [],
   "source": [
    "# get the r2 score\n",
    "def get_r2(set_of_embeddings, labels, n_iterations=1):\n",
    "\n",
    "    # list to store mean auc scores at each of these embedding dimensions\n",
    "    mean_scores = []\n",
    "    errors = []\n",
    "\n",
    "    for embedding in set_of_embeddings:\n",
    "\n",
    "        scores=[]\n",
    "\n",
    "        for i in range(n_iterations):\n",
    "            \n",
    "            # get score\n",
    "            r2_score, prediction = reconstruction_score(embedding, labels)\n",
    "            scores.append(r2_score)\n",
    "\n",
    "        # append score\n",
    "        mean_scores.append(np.mean(scores))\n",
    "        errors.append(np.std(scores))\n",
    "\n",
    "\n",
    "    return np.array(mean_scores), np.array(errors)\n"
   ]
  },
  {
   "cell_type": "code",
   "execution_count": null,
   "metadata": {},
   "outputs": [],
   "source": [
    "r2_scores, r2_errors = get_r2([t_embed, b_embed], rpe_labels_)"
   ]
  },
  {
   "cell_type": "code",
   "execution_count": null,
   "metadata": {},
   "outputs": [
    {
     "data": {
      "text/plain": [
       "array([0.  , 0.69])"
      ]
     },
     "execution_count": 52,
     "metadata": {},
     "output_type": "execute_result"
    }
   ],
   "source": [
    "r2_scores = np.round(r2_scores, 2)\n",
    "r2_scores"
   ]
  },
  {
   "cell_type": "code",
   "execution_count": null,
   "metadata": {},
   "outputs": [
    {
     "data": {
      "text/plain": [
       "[<matplotlib.lines.Line2D at 0x29fc98520>]"
      ]
     },
     "execution_count": 53,
     "metadata": {},
     "output_type": "execute_result"
    },
    {
     "data": {
      "image/png": "[encoded data removed]",
      "text/plain": [
       "<Figure size 640x480 with 1 Axes>"
      ]
     },
     "metadata": {},
     "output_type": "display_data"
    }
   ],
   "source": [
    "plt.plot(r2_scores,'o')"
   ]
  },
  {
   "cell_type": "code",
   "execution_count": null,
   "metadata": {},
   "outputs": [
    {
     "name": "stderr",
     "output_type": "stream",
     "text": [
      "pos:  0.4757 neg:  3.9330 total:  4.4087 temperature:  1.0000: 100%|██████████| 2000/2000 [00:47<00:00, 41.78it/s]\n",
      "pos:  0.1732 neg:  6.0077 total:  6.1809 temperature:  1.0000: 100%|██████████| 2000/2000 [00:45<00:00, 44.11it/s]\n"
     ]
    },
    {
     "name": "stdout",
     "output_type": "stream",
     "text": [
      "Finished dimension 1\n"
     ]
    },
    {
     "name": "stderr",
     "output_type": "stream",
     "text": [
      "pos:  0.7935 neg:  3.0783 total:  3.8718 temperature:  1.0000: 100%|██████████| 2000/2000 [00:44<00:00, 45.16it/s]\n",
      "pos:  0.4385 neg:  5.7263 total:  6.1648 temperature:  1.0000: 100%|██████████| 2000/2000 [00:46<00:00, 43.12it/s]\n"
     ]
    },
    {
     "name": "stdout",
     "output_type": "stream",
     "text": [
      "Finished dimension 2\n"
     ]
    },
    {
     "name": "stderr",
     "output_type": "stream",
     "text": [
      "pos:  0.9894 neg:  2.8038 total:  3.7932 temperature:  1.0000: 100%|██████████| 2000/2000 [00:44<00:00, 44.77it/s]\n",
      "pos:  0.6339 neg:  5.4523 total:  6.0862 temperature:  1.0000: 100%|██████████| 2000/2000 [00:39<00:00, 50.66it/s]\n"
     ]
    },
    {
     "name": "stdout",
     "output_type": "stream",
     "text": [
      "Finished dimension 3\n"
     ]
    },
    {
     "name": "stderr",
     "output_type": "stream",
     "text": [
      "pos:  0.9738 neg:  2.8568 total:  3.8306 temperature:  1.0000: 100%|██████████| 2000/2000 [00:35<00:00, 57.11it/s]\n",
      "pos:  0.6238 neg:  5.5067 total:  6.1305 temperature:  1.0000: 100%|██████████| 2000/2000 [00:37<00:00, 53.18it/s]\n"
     ]
    },
    {
     "name": "stdout",
     "output_type": "stream",
     "text": [
      "Finished dimension 4\n"
     ]
    },
    {
     "name": "stderr",
     "output_type": "stream",
     "text": [
      "pos:  0.9680 neg:  2.8012 total:  3.7692 temperature:  1.0000: 100%|██████████| 2000/2000 [00:36<00:00, 54.94it/s]\n",
      "pos:  0.9199 neg:  5.1076 total:  6.0276 temperature:  1.0000: 100%|██████████| 2000/2000 [00:38<00:00, 51.53it/s]"
     ]
    },
    {
     "name": "stdout",
     "output_type": "stream",
     "text": [
      "Finished dimension 5\n"
     ]
    },
    {
     "name": "stderr",
     "output_type": "stream",
     "text": [
      "\n"
     ]
    }
   ],
   "source": [
    "# now with r2 score\n",
    "\n",
    "# at diff dimensions\n",
    "dimensions = [1,2,3,4,5]\n",
    "\n",
    "r2_scores = []\n",
    "r2_scores_t = []\n",
    "\n",
    "\n",
    "for dimension in dimensions:\n",
    "\n",
    "\n",
    "    # build, train and compute embeddings\n",
    "    time_embed, behaviour_embed = cp.build_train_compute(formatted_nms,rpe_labels_, d=dimension)\n",
    "\n",
    "    # get auc\n",
    "    r2_score, errors = reconstruction_score(behaviour_embed, rpe_labels_)\n",
    "    r2_score_t, errors_t = reconstruction_score(time_embed, rpe_labels_)\n",
    "\n",
    "    # get the mean and sd for the aucs at that dimension\n",
    "    r2_scores.append(r2_score)\n",
    "    r2_scores_t.append(r2_score_t)\n",
    "\n",
    "\n",
    "    print(\"Finished dimension {}\".format(dimension))\n"
   ]
  },
  {
   "cell_type": "code",
   "execution_count": null,
   "metadata": {},
   "outputs": [
    {
     "data": {
      "text/plain": [
       "<matplotlib.legend.Legend at 0x2a29bd520>"
      ]
     },
     "execution_count": 59,
     "metadata": {},
     "output_type": "execute_result"
    },
    {
     "data": {
      "image/png": "[encoded data removed]",
      "text/plain": [
       "<Figure size 640x480 with 1 Axes>"
      ]
     },
     "metadata": {},
     "output_type": "display_data"
    }
   ],
   "source": [
    "plt.plot(dimensions, r2_scores, 'o', label='behaviour')\n",
    "plt.plot(dimensions, r2_scores_t, 'o', label='time')\n",
    "plt.xlabel('Dimension')\n",
    "plt.ylabel('R2 score')\n",
    "plt.title('CEBRA Performance at different output dimensions with rpe labels')\n",
    "plt.legend()\n"
   ]
  }
 ],
 "metadata": {
  "kernelspec": {
   "display_name": "base",
   "language": "python",
   "name": "python3"
  },
  "language_info": {
   "codemirror_mode": {
    "name": "ipython",
    "version": 3
   },
   "file_extension": ".py",
   "mimetype": "text/x-python",
   "name": "python",
   "nbconvert_exporter": "python",
   "pygments_lexer": "ipython3",
   "version": "3.9.17"
  },
  "orig_nbformat": 4,
  "vscode": {
   "interpreter": {
    "hash": "d4d1e4263499bec80672ea0156c357c1ee493ec2b1c70f0acce89fc37c4a6abe"
   }
  }
 },
 "nbformat": 4,
 "nbformat_minor": 2
}
