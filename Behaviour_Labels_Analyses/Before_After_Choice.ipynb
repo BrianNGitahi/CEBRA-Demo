{
 "cells": [
  {
   "cell_type": "code",
   "execution_count": 1,
   "metadata": {},
   "outputs": [
    {
     "data": {
      "text/plain": [
       "\"\\nThis notebook runs the CEBRA analyses on multiple sessions using reward labels.\\nSpecifically, it runs the analysis on the data before the choice time and after the choice time\\nand then outputs a bargraph with reconstruction performance scores for these two periods for the ALL neuromodulators (there's a separate script that does it on individual neuromodulators).\\n\""
      ]
     },
     "execution_count": 1,
     "metadata": {},
     "output_type": "execute_result"
    }
   ],
   "source": [
    "\"\"\"\n",
    "This notebook runs the CEBRA analyses on multiple sessions using reward labels.\n",
    "Specifically, it runs the analysis on the data before the choice time and after the choice time\n",
    "and then outputs a bargraph with reconstruction performance scores for these two periods for the ALL neuromodulators (there's a separate script that does it on individual neuromodulators).\n",
    "\"\"\""
   ]
  },
  {
   "cell_type": "code",
   "execution_count": 2,
   "metadata": {},
   "outputs": [],
   "source": [
    "\n",
    "import numpy as np\n",
    "import itertools\n",
    "import matplotlib.pyplot as plt\n",
    "import matplotlib.gridspec as gridspec\n",
    "from mpl_toolkits.mplot3d import Axes3D\n",
    "from scipy.integrate import solve_ivp\n",
    "import cebra.data\n",
    "import torch\n",
    "import cebra.integrations\n",
    "import cebra.datasets\n",
    "from cebra import CEBRA\n",
    "import torch\n",
    "import pickle\n",
    "import utils\n",
    "\n",
    "from sklearn.linear_model import LogisticRegression\n",
    "from sklearn.metrics import precision_recall_curve \n",
    "from sklearn.metrics import confusion_matrix\n",
    "from sklearn.metrics import roc_curve\n",
    "from sklearn.metrics import roc_auc_score\n",
    "from sklearn.metrics import auc\n",
    "\n",
    "from matplotlib.collections import LineCollection\n",
    "import pandas as pd"
   ]
  },
  {
   "cell_type": "markdown",
   "metadata": {},
   "source": [
    "## Load and format the Neuromodulator (NM) data and behavioural labels"
   ]
  },
  {
   "cell_type": "code",
   "execution_count": 3,
   "metadata": {},
   "outputs": [],
   "source": [
    "# load the dataframe\n",
    "df_trials_ses = pickle.load(open('/Users/brian.gitahi/Desktop/AIND/CEBRA/Git/CEBRA-Demo/data/CO data/df.pkl', \"rb\"))"
   ]
  },
  {
   "cell_type": "code",
   "execution_count": 4,
   "metadata": {},
   "outputs": [],
   "source": [
    "# load the dictionary containing the traces\n",
    "traces = pickle.load(open('/Users/brian.gitahi/Desktop/AIND/CEBRA/Git/CEBRA-Demo/data/CO data/traces.pkl', \"rb\"))"
   ]
  },
  {
   "cell_type": "code",
   "execution_count": 5,
   "metadata": {},
   "outputs": [],
   "source": [
    "# load the trace times\n",
    "trace_times = np.load('/Users/brian.gitahi/Desktop/AIND/CEBRA/Git/CEBRA-Demo/data/CO data/Trace times.npy', allow_pickle=True)"
   ]
  },
  {
   "cell_type": "code",
   "execution_count": 6,
   "metadata": {},
   "outputs": [
    {
     "data": {
      "text/plain": [
       "(218572, 4)"
      ]
     },
     "execution_count": 6,
     "metadata": {},
     "output_type": "execute_result"
    }
   ],
   "source": [
    "# Combine the traces for all NMs into one 2D array\n",
    "all_nms = np.array([traces[trace] for trace in traces.keys()])\n",
    "all_nms = np.transpose(all_nms)\n",
    "\n",
    "# change it to an array of floats (previously it was an array of object datatype)\n",
    "all_nms_new = all_nms.astype(np.float64)\n",
    "all_nms_new.shape"
   ]
  },
  {
   "cell_type": "code",
   "execution_count": 7,
   "metadata": {},
   "outputs": [],
   "source": [
    "n_trials = 1765"
   ]
  },
  {
   "cell_type": "code",
   "execution_count": 8,
   "metadata": {},
   "outputs": [],
   "source": [
    "# get the choice time \n",
    "choice_times = df_trials_ses['choice_time'][0:n_trials].to_numpy()"
   ]
  },
  {
   "cell_type": "code",
   "execution_count": 9,
   "metadata": {},
   "outputs": [
    {
     "data": {
      "text/plain": [
       "1717"
      ]
     },
     "execution_count": 9,
     "metadata": {},
     "output_type": "execute_result"
    }
   ],
   "source": [
    "np.unique(np.isnan(choice_times),return_counts=True)[1][0]"
   ]
  },
  {
   "cell_type": "code",
   "execution_count": 10,
   "metadata": {},
   "outputs": [],
   "source": [
    "# Make a function to format the NM data into a 1s window around the choice\n",
    "\n",
    "def format_data(neural_data, window=None ,df = df_trials_ses, trace_times_ = trace_times, choice_times_ = choice_times, window_size=10, n_trials=1765):\n",
    "\n",
    "    # define the number of trials where the mouse made a choice\n",
    "    n_choice_trials = np.unique(np.isnan(choice_times_),return_counts=True)[1][0]\n",
    "\n",
    "    # list to hold all the 1s windows\n",
    "    n_data_window = []\n",
    "\n",
    "    # new trial label\n",
    "    trial_labels = []\n",
    "\n",
    "    # loop over all trials\n",
    "    for i in range(0,n_trials):\n",
    "\n",
    "        # skip trials where the animal didn't make a choice (null choice time)\n",
    "        if np.isnan(choice_times_[i]):\n",
    "            continue\n",
    "\n",
    "        # find the index of the closest time to the choice time in the trace_times array \n",
    "        idx = np.abs(trace_times_ - choice_times_[i]).argmin()\n",
    "\n",
    "        # take the previous 10 and/or the next 10 values of the NM data at these indices - 1s window\n",
    "        if window =='before':\n",
    "            n_data_window.append(neural_data[idx-10:idx])\n",
    "\n",
    "        if window == 'after':\n",
    "            n_data_window.append(neural_data[idx:idx+10])\n",
    "\n",
    "        if window == None:\n",
    "            n_data_window.append(neural_data[idx-10:idx+10])\n",
    "\n",
    "        # label the timepoints as rewarded or unrewarded\n",
    "        if df['reward'].iloc[i]:\n",
    "            # new trial label\n",
    "            trial_labels.append(1)\n",
    "\n",
    "        elif df['reward'].iloc[i]==False:\n",
    "            # new trial label\n",
    "            trial_labels.append(0)\n",
    "\n",
    "\n",
    "    # stack the nm data for each trial\n",
    "    nms_HD = np.stack(n_data_window).reshape((n_choice_trials,-1))\n",
    "    # format it into a tensor\n",
    "    nms_HD = torch.from_numpy(nms_HD.astype(np.float64))\n",
    "    print(\"neural tensor shape: \", nms_HD.shape)\n",
    "\n",
    "    # convert trial labels into an array\n",
    "    trial_labels = np.array(trial_labels)\n",
    "    print(\"labels shape: \",trial_labels.shape)\n",
    "\n",
    "    return nms_HD, trial_labels\n"
   ]
  },
  {
   "cell_type": "code",
   "execution_count": 11,
   "metadata": {},
   "outputs": [
    {
     "name": "stdout",
     "output_type": "stream",
     "text": [
      "neural tensor shape:  torch.Size([1717, 40])\n",
      "labels shape:  (1717,)\n"
     ]
    }
   ],
   "source": [
    "all_nms_before, trial_labels_ = format_data(all_nms, window='before')"
   ]
  },
  {
   "cell_type": "code",
   "execution_count": 12,
   "metadata": {},
   "outputs": [
    {
     "data": {
      "text/plain": [
       "array([1, 0, 0, ..., 1, 0, 0])"
      ]
     },
     "execution_count": 12,
     "metadata": {},
     "output_type": "execute_result"
    }
   ],
   "source": [
    "trial_labels_"
   ]
  },
  {
   "cell_type": "markdown",
   "metadata": {},
   "source": [
    "## Run analysis and compute embeddings on NM data BEFORE choice"
   ]
  },
  {
   "cell_type": "code",
   "execution_count": 14,
   "metadata": {},
   "outputs": [],
   "source": [
    "rewarded, unrewarded = utils.define_label_classes(trial_labels=trial_labels_)"
   ]
  },
  {
   "cell_type": "code",
   "execution_count": 16,
   "metadata": {},
   "outputs": [
    {
     "name": "stderr",
     "output_type": "stream",
     "text": [
      "pos:  0.8318 neg:  4.0551 total:  4.8869 temperature:  1.0000: 100%|██████████| 2000/2000 [01:02<00:00, 32.21it/s]\n",
      "pos:  0.1959 neg:  6.0134 total:  6.2093 temperature:  1.0000: 100%|██████████| 2000/2000 [01:05<00:00, 30.60it/s]\n"
     ]
    }
   ],
   "source": [
    "t_embed_b4, b_embed_b4 = utils.build_train_compute(all_nms_before, trial_labels_)"
   ]
  },
  {
   "cell_type": "markdown",
   "metadata": {},
   "source": [
    "## Run analysis and compute embeddings on NM data AFTER choice"
   ]
  },
  {
   "cell_type": "code",
   "execution_count": 20,
   "metadata": {},
   "outputs": [
    {
     "name": "stdout",
     "output_type": "stream",
     "text": [
      "neural tensor shape:  torch.Size([1717, 40])\n",
      "labels shape:  (1717,)\n"
     ]
    }
   ],
   "source": [
    "all_nms_af, trial_labels_af = format_data(all_nms, window='after')"
   ]
  },
  {
   "cell_type": "code",
   "execution_count": 21,
   "metadata": {},
   "outputs": [
    {
     "name": "stderr",
     "output_type": "stream",
     "text": [
      "pos:  1.0244 neg:  3.1200 total:  4.1444 temperature:  1.0000: 100%|██████████| 2000/2000 [01:16<00:00, 26.23it/s]\n",
      "pos:  0.3099 neg:  5.5128 total:  5.8227 temperature:  1.0000: 100%|██████████| 2000/2000 [01:20<00:00, 24.98it/s]\n"
     ]
    }
   ],
   "source": [
    "t_embed_af, b_embed_af = utils.build_train_compute(all_nms_af, trial_labels_af)"
   ]
  },
  {
   "cell_type": "code",
   "execution_count": 22,
   "metadata": {},
   "outputs": [],
   "source": [
    "two_embeddings = [b_embed_b4, b_embed_af]"
   ]
  },
  {
   "cell_type": "markdown",
   "metadata": {},
   "source": [
    "## Quantify how well these embeddings show presence of reward"
   ]
  },
  {
   "cell_type": "code",
   "execution_count": 23,
   "metadata": {},
   "outputs": [],
   "source": [
    "# define function to get the auc scores\n",
    "def get_auc(set_of_embeddings,trial_labels, n_iterations=1):   \n",
    "\n",
    "     # list to store mean auc scores at each of these embedding dimensions\n",
    "    mean_scores = []\n",
    "    errors = []\n",
    "\n",
    "    for j, embedding in enumerate(set_of_embeddings):\n",
    "\n",
    "        # quantify with AUC score\n",
    "        scores = []\n",
    "\n",
    "        # for each NM make a couple of runs of the log regression model to get error bars\n",
    "        for i in range(n_iterations):\n",
    "\n",
    "            # make logistic function, fit it and use it to predict the initial labels from the embedding\n",
    "            logreg = LogisticRegression(random_state=42)\n",
    "            logreg.fit(embedding, trial_labels)\n",
    "            prediction = logreg.predict(embedding)\n",
    "\n",
    "            # quantify how well the embedding mirrors the labels using the auc score\n",
    "\n",
    "            # make a precision recall curve and get the threshold\n",
    "            precision, recall, threshold = precision_recall_curve(trial_labels, prediction)\n",
    "            threshold = np.concatenate([np.array([0]), threshold])\n",
    "\n",
    "            # calculate the fpr and tpr for all thresholds of the classification\n",
    "            fpr, tpr, threshold = roc_curve(trial_labels, prediction)\n",
    "\n",
    "            # get the auc score and append it to the list\n",
    "            roc_auc = auc(fpr, tpr)\n",
    "            scores.append(roc_auc)\n",
    "\n",
    "        # store the mean and the standard deviation \n",
    "        mean_scores.append(np.mean(scores))\n",
    "        errors.append(np.std(scores))\n",
    "\n",
    "    return mean_scores, errors"
   ]
  },
  {
   "cell_type": "code",
   "execution_count": 24,
   "metadata": {},
   "outputs": [
    {
     "data": {
      "text/plain": [
       "(1717,)"
      ]
     },
     "execution_count": 24,
     "metadata": {},
     "output_type": "execute_result"
    }
   ],
   "source": [
    "trial_labels_.shape"
   ]
  },
  {
   "cell_type": "code",
   "execution_count": 25,
   "metadata": {},
   "outputs": [
    {
     "data": {
      "text/plain": [
       "(1717, 3)"
      ]
     },
     "execution_count": 25,
     "metadata": {},
     "output_type": "execute_result"
    }
   ],
   "source": [
    "b_embed_af.shape"
   ]
  },
  {
   "cell_type": "code",
   "execution_count": 26,
   "metadata": {},
   "outputs": [],
   "source": [
    "x_labels = ['Before choice', 'After Choice']"
   ]
  },
  {
   "cell_type": "code",
   "execution_count": 27,
   "metadata": {},
   "outputs": [],
   "source": [
    "list_embeddings = [b_embed_b4, b_embed_af]"
   ]
  },
  {
   "cell_type": "code",
   "execution_count": 28,
   "metadata": {},
   "outputs": [],
   "source": [
    "mean_scores, errors = get_auc(list_embeddings, trial_labels=trial_labels_)\n",
    "scores_ = np.round(mean_scores,2)"
   ]
  },
  {
   "cell_type": "code",
   "execution_count": 29,
   "metadata": {},
   "outputs": [
    {
     "data": {
      "text/plain": [
       "['Before choice', 'After Choice']"
      ]
     },
     "execution_count": 29,
     "metadata": {},
     "output_type": "execute_result"
    }
   ],
   "source": [
    "x_labels"
   ]
  },
  {
   "cell_type": "code",
   "execution_count": 30,
   "metadata": {},
   "outputs": [],
   "source": [
    "# first make function to make the plots given a list of embeddings\n",
    "def plot4_embeddings(embeddings, labels = trial_labels_, l_class=[rewarded, unrewarded], titles=['DA (AUC:0.92)', 'NE (AUC:0.97)', '5HT (AUC:0.76)', 'ACh (AUC:0.85)']):\n",
    "\n",
    "    # number of plots\n",
    "    n_plots = len(embeddings)\n",
    "\n",
    "    n_columns = 2\n",
    "    n_rows = n_plots//n_columns\n",
    "\n",
    "    # create axis\n",
    "    fig = plt.figure(figsize=(10,4))\n",
    "    gs = gridspec.GridSpec(n_rows, n_columns, figure=fig)\n",
    "\n",
    "    # colour \n",
    "    c = ['cool','plasma','pink','winter']\n",
    "\n",
    "    for i, embed in enumerate(embeddings):\n",
    "\n",
    "        # create the axes\n",
    "        ax = fig.add_subplot(gs[i // n_columns, i%n_columns], projection='3d')\n",
    "\n",
    "        ax.set_xlabel(\"latent 1\", labelpad=0.001, fontsize=13)\n",
    "        ax.set_ylabel(\"latent 2\", labelpad=0.001, fontsize=13)\n",
    "        ax.set_zlabel(\"latent 3\", labelpad=0.001, fontsize=13)\n",
    "\n",
    "        # Hide X and Y axes label marks\n",
    "        ax.xaxis.set_tick_params(labelbottom=False)\n",
    "        ax.yaxis.set_tick_params(labelleft=False)\n",
    "        ax.zaxis.set_tick_params(labelright=False)\n",
    "\n",
    "        # Hide X and Y axes tick marks\n",
    "        ax.set_xticks([])\n",
    "        ax.set_yticks([])\n",
    "        ax.set_zticks([])\n",
    "\n",
    "        # plot the embedding\n",
    "        cebra.plot_embedding(embedding=embed[l_class[0],:], embedding_labels=labels[l_class[0]], ax=ax, markersize=2,title=titles[i], cmap=c[0])\n",
    "        cebra.plot_embedding(embedding=embed[l_class[1],:], embedding_labels=labels[l_class[1]], ax=ax, markersize=2,title=titles[i], cmap=c[1])\n",
    "\n",
    "    \n",
    "    # Adjust the subplot layout manually\n",
    "    #plt.subplots_adjust(left=0.1, right=0.55, top=0.95, bottom=0.05, wspace=0.0001)\n",
    "    plt.suptitle(\"Embeddings of All Neuromodulators\", fontsize=15)"
   ]
  },
  {
   "cell_type": "code",
   "execution_count": 31,
   "metadata": {},
   "outputs": [
    {
     "data": {
      "image/png": "[encoded data removed]",
      "text/plain": [
       "<Figure size 1000x400 with 2 Axes>"
      ]
     },
     "metadata": {},
     "output_type": "display_data"
    }
   ],
   "source": [
    "# plot both of them on one plot\n",
    "plot4_embeddings(two_embeddings, labels=trial_labels_, l_class=[rewarded,unrewarded], titles=[f'Before Choice, AUC: {scores_[0]} ', f'After Choice, AUC: {scores_[1]} '])"
   ]
  },
  {
   "cell_type": "code",
   "execution_count": 32,
   "metadata": {},
   "outputs": [
    {
     "data": {
      "text/plain": [
       "Text(0.5, 1.0, 'AUC score (logistic regression) before and after choice')"
      ]
     },
     "execution_count": 32,
     "metadata": {},
     "output_type": "execute_result"
    },
    {
     "data": {
      "image/png": "[encoded data removed]",
      "text/plain": [
       "<Figure size 640x480 with 1 Axes>"
      ]
     },
     "metadata": {},
     "output_type": "display_data"
    }
   ],
   "source": [
    "# print the auc score vs the embedding dimension\n",
    "plt.errorbar(x=np.arange(0,2),y=mean_scores, yerr=errors, fmt='ro')\n",
    "plt.xlabel(\"\")\n",
    "plt.xticks(range(len(x_labels)), x_labels, size='small')\n",
    "plt.ylabel(\"AUC Score\")\n",
    "plt.title(\"AUC score (logistic regression) before and after choice\")"
   ]
  },
  {
   "cell_type": "code",
   "execution_count": 33,
   "metadata": {},
   "outputs": [],
   "source": [
    "labels = ['Before', 'After']"
   ]
  },
  {
   "cell_type": "code",
   "execution_count": 34,
   "metadata": {},
   "outputs": [
    {
     "data": {
      "text/plain": [
       "<matplotlib.legend.Legend at 0x7f805290d460>"
      ]
     },
     "execution_count": 34,
     "metadata": {},
     "output_type": "execute_result"
    },
    {
     "data": {
      "image/png": "[encoded data removed]",
      "text/plain": [
       "<Figure size 640x480 with 1 Axes>"
      ]
     },
     "metadata": {},
     "output_type": "display_data"
    }
   ],
   "source": [
    "fig, ax = plt.subplots(layout='constrained')\n",
    "\n",
    "x = np.arange(0,2)\n",
    "width = 0.25\n",
    "\n",
    "\n",
    "rects = ax.bar(x+width, mean_scores, width, label='Before/after')\n",
    "ax.bar_label(rects, padding=3)\n",
    "\n",
    "ax.set_ylabel('auc scores')\n",
    "ax.set_title('Before/After choice comparison')\n",
    "ax.set_xticks(x + width, labels)\n",
    "ax.legend(loc='upper left')"
   ]
  }
 ],
 "metadata": {
  "kernelspec": {
   "display_name": "cebraenv",
   "language": "python",
   "name": "python3"
  },
  "language_info": {
   "codemirror_mode": {
    "name": "ipython",
    "version": 3
   },
   "file_extension": ".py",
   "mimetype": "text/x-python",
   "name": "python",
   "nbconvert_exporter": "python",
   "pygments_lexer": "ipython3",
   "version": "3.9.7"
  }
 },
 "nbformat": 4,
 "nbformat_minor": 2
}
